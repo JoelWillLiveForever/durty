{
  "cells": [
    {
      "cell_type": "markdown",
      "metadata": {},
      "source": [
        "# Курсовой проект.\n",
        "# Вариант 12. Индекс удовлетворенности сотрудников.\n",
        "# Выполнил студент гр. бПО-191 Никулин В.С."
      ]
    },
    {
      "cell_type": "code",
      "execution_count": 2,
      "metadata": {},
      "outputs": [],
      "source": [
        "import pandas as pd\n",
        "import numpy as np\n",
        "import matplotlib.pyplot as plt\n",
        "import seaborn as sns\n",
        "import random as rnd\n",
        "\n",
        "import warnings\n",
        "warnings.filterwarnings(\"ignore\")"
      ]
    },
    {
      "cell_type": "code",
      "execution_count": 3,
      "metadata": {},
      "outputs": [
        {
          "data": {
            "text/html": [
              "<div>\n",
              "<style scoped>\n",
              "    .dataframe tbody tr th:only-of-type {\n",
              "        vertical-align: middle;\n",
              "    }\n",
              "\n",
              "    .dataframe tbody tr th {\n",
              "        vertical-align: top;\n",
              "    }\n",
              "\n",
              "    .dataframe thead th {\n",
              "        text-align: right;\n",
              "    }\n",
              "</style>\n",
              "<table border=\"1\" class=\"dataframe\">\n",
              "  <thead>\n",
              "    <tr style=\"text-align: right;\">\n",
              "      <th></th>\n",
              "      <th>Unnamed: 0</th>\n",
              "      <th>emp_id</th>\n",
              "      <th>age</th>\n",
              "      <th>Dept</th>\n",
              "      <th>location</th>\n",
              "      <th>education</th>\n",
              "      <th>recruitment_type</th>\n",
              "      <th>job_level</th>\n",
              "      <th>rating</th>\n",
              "      <th>onsite</th>\n",
              "      <th>awards</th>\n",
              "      <th>certifications</th>\n",
              "      <th>salary</th>\n",
              "      <th>satisfied</th>\n",
              "    </tr>\n",
              "  </thead>\n",
              "  <tbody>\n",
              "    <tr>\n",
              "      <th>0</th>\n",
              "      <td>0</td>\n",
              "      <td>HR8270</td>\n",
              "      <td>28</td>\n",
              "      <td>HR</td>\n",
              "      <td>Suburb</td>\n",
              "      <td>PG</td>\n",
              "      <td>Referral</td>\n",
              "      <td>5</td>\n",
              "      <td>2</td>\n",
              "      <td>0</td>\n",
              "      <td>1</td>\n",
              "      <td>0</td>\n",
              "      <td>86750</td>\n",
              "      <td>1</td>\n",
              "    </tr>\n",
              "    <tr>\n",
              "      <th>1</th>\n",
              "      <td>1</td>\n",
              "      <td>TECH1860</td>\n",
              "      <td>50</td>\n",
              "      <td>Technology</td>\n",
              "      <td>Suburb</td>\n",
              "      <td>PG</td>\n",
              "      <td>Walk-in</td>\n",
              "      <td>3</td>\n",
              "      <td>5</td>\n",
              "      <td>1</td>\n",
              "      <td>2</td>\n",
              "      <td>1</td>\n",
              "      <td>42419</td>\n",
              "      <td>0</td>\n",
              "    </tr>\n",
              "    <tr>\n",
              "      <th>2</th>\n",
              "      <td>2</td>\n",
              "      <td>TECH6390</td>\n",
              "      <td>43</td>\n",
              "      <td>Technology</td>\n",
              "      <td>Suburb</td>\n",
              "      <td>UG</td>\n",
              "      <td>Referral</td>\n",
              "      <td>4</td>\n",
              "      <td>1</td>\n",
              "      <td>0</td>\n",
              "      <td>2</td>\n",
              "      <td>0</td>\n",
              "      <td>65715</td>\n",
              "      <td>0</td>\n",
              "    </tr>\n",
              "    <tr>\n",
              "      <th>3</th>\n",
              "      <td>3</td>\n",
              "      <td>SAL6191</td>\n",
              "      <td>44</td>\n",
              "      <td>Sales</td>\n",
              "      <td>City</td>\n",
              "      <td>PG</td>\n",
              "      <td>On-Campus</td>\n",
              "      <td>2</td>\n",
              "      <td>3</td>\n",
              "      <td>1</td>\n",
              "      <td>0</td>\n",
              "      <td>0</td>\n",
              "      <td>29805</td>\n",
              "      <td>1</td>\n",
              "    </tr>\n",
              "    <tr>\n",
              "      <th>4</th>\n",
              "      <td>4</td>\n",
              "      <td>HR6734</td>\n",
              "      <td>33</td>\n",
              "      <td>HR</td>\n",
              "      <td>City</td>\n",
              "      <td>UG</td>\n",
              "      <td>Recruitment Agency</td>\n",
              "      <td>2</td>\n",
              "      <td>1</td>\n",
              "      <td>0</td>\n",
              "      <td>5</td>\n",
              "      <td>0</td>\n",
              "      <td>29805</td>\n",
              "      <td>1</td>\n",
              "    </tr>\n",
              "    <tr>\n",
              "      <th>5</th>\n",
              "      <td>5</td>\n",
              "      <td>PUR7265</td>\n",
              "      <td>40</td>\n",
              "      <td>Purchasing</td>\n",
              "      <td>Suburb</td>\n",
              "      <td>UG</td>\n",
              "      <td>Referral</td>\n",
              "      <td>3</td>\n",
              "      <td>3</td>\n",
              "      <td>0</td>\n",
              "      <td>7</td>\n",
              "      <td>1</td>\n",
              "      <td>42419</td>\n",
              "      <td>1</td>\n",
              "    </tr>\n",
              "    <tr>\n",
              "      <th>6</th>\n",
              "      <td>6</td>\n",
              "      <td>PUR1466</td>\n",
              "      <td>26</td>\n",
              "      <td>Purchasing</td>\n",
              "      <td>Suburb</td>\n",
              "      <td>UG</td>\n",
              "      <td>Referral</td>\n",
              "      <td>5</td>\n",
              "      <td>5</td>\n",
              "      <td>0</td>\n",
              "      <td>2</td>\n",
              "      <td>0</td>\n",
              "      <td>86750</td>\n",
              "      <td>0</td>\n",
              "    </tr>\n",
              "    <tr>\n",
              "      <th>7</th>\n",
              "      <td>7</td>\n",
              "      <td>TECH5426</td>\n",
              "      <td>25</td>\n",
              "      <td>Technology</td>\n",
              "      <td>City</td>\n",
              "      <td>UG</td>\n",
              "      <td>Recruitment Agency</td>\n",
              "      <td>1</td>\n",
              "      <td>1</td>\n",
              "      <td>0</td>\n",
              "      <td>4</td>\n",
              "      <td>0</td>\n",
              "      <td>24076</td>\n",
              "      <td>0</td>\n",
              "    </tr>\n",
              "    <tr>\n",
              "      <th>8</th>\n",
              "      <td>8</td>\n",
              "      <td>HR6578</td>\n",
              "      <td>35</td>\n",
              "      <td>HR</td>\n",
              "      <td>City</td>\n",
              "      <td>PG</td>\n",
              "      <td>Referral</td>\n",
              "      <td>3</td>\n",
              "      <td>4</td>\n",
              "      <td>0</td>\n",
              "      <td>0</td>\n",
              "      <td>0</td>\n",
              "      <td>42419</td>\n",
              "      <td>1</td>\n",
              "    </tr>\n",
              "    <tr>\n",
              "      <th>9</th>\n",
              "      <td>9</td>\n",
              "      <td>TECH9322</td>\n",
              "      <td>45</td>\n",
              "      <td>Technology</td>\n",
              "      <td>City</td>\n",
              "      <td>PG</td>\n",
              "      <td>Referral</td>\n",
              "      <td>3</td>\n",
              "      <td>3</td>\n",
              "      <td>0</td>\n",
              "      <td>9</td>\n",
              "      <td>0</td>\n",
              "      <td>42419</td>\n",
              "      <td>0</td>\n",
              "    </tr>\n",
              "  </tbody>\n",
              "</table>\n",
              "</div>"
            ],
            "text/plain": [
              "   Unnamed: 0    emp_id  age        Dept location education  \\\n",
              "0           0    HR8270   28          HR   Suburb        PG   \n",
              "1           1  TECH1860   50  Technology   Suburb        PG   \n",
              "2           2  TECH6390   43  Technology   Suburb        UG   \n",
              "3           3   SAL6191   44       Sales     City        PG   \n",
              "4           4    HR6734   33          HR     City        UG   \n",
              "5           5   PUR7265   40  Purchasing   Suburb        UG   \n",
              "6           6   PUR1466   26  Purchasing   Suburb        UG   \n",
              "7           7  TECH5426   25  Technology     City        UG   \n",
              "8           8    HR6578   35          HR     City        PG   \n",
              "9           9  TECH9322   45  Technology     City        PG   \n",
              "\n",
              "     recruitment_type  job_level  rating  onsite  awards  certifications  \\\n",
              "0            Referral          5       2       0       1               0   \n",
              "1             Walk-in          3       5       1       2               1   \n",
              "2            Referral          4       1       0       2               0   \n",
              "3           On-Campus          2       3       1       0               0   \n",
              "4  Recruitment Agency          2       1       0       5               0   \n",
              "5            Referral          3       3       0       7               1   \n",
              "6            Referral          5       5       0       2               0   \n",
              "7  Recruitment Agency          1       1       0       4               0   \n",
              "8            Referral          3       4       0       0               0   \n",
              "9            Referral          3       3       0       9               0   \n",
              "\n",
              "   salary  satisfied  \n",
              "0   86750          1  \n",
              "1   42419          0  \n",
              "2   65715          0  \n",
              "3   29805          1  \n",
              "4   29805          1  \n",
              "5   42419          1  \n",
              "6   86750          0  \n",
              "7   24076          0  \n",
              "8   42419          1  \n",
              "9   42419          0  "
            ]
          },
          "execution_count": 3,
          "metadata": {},
          "output_type": "execute_result"
        }
      ],
      "source": [
        "data = pd.read_csv('Employee Satisfaction Index.csv')\n",
        "data.head(10)"
      ]
    },
    {
      "cell_type": "markdown",
      "metadata": {},
      "source": [
        "## Описание датасета:\n",
        "### Колонки:\n",
        "1. Порядковый номер записи\n",
        "\n",
        "2. emp_id -> Уникальный идентификатор сотрудника\n",
        "3. age -> Возраст сотрудника\n",
        "4. Dept -> Отдел, где работает\n",
        "5. location -> Местоположение сотрудника\n",
        "6. education -> Уровень образования\n",
        "7. recruitment_type -> Тип занятости\n",
        "8. job_level -> Уровень занимаемой должности (1 - наименьшее; 5 - наивысшее)\n",
        "9. rating -> Рейтинг сотрдуника за прошлый год работы (1 - наименьшее; 5 - наивысшее)\n",
        "10. onsite -> Трудовая занятость в пределах места проживания? (0 - Нет; 1 - Да)\n",
        "11. awards -> Количество наград \n",
        "12. certifications -> Работник аттестован? (0 - Нет; 1 - Да)\n",
        "13. salary -> Размер чистой зарплаты\n",
        "14. satisfied -> Работник доволен своей работой? (0 - Нет; 1 - Да)"
      ]
    },
    {
      "cell_type": "markdown",
      "metadata": {},
      "source": [
        "# Задание 1. Визуальный анализ данных."
      ]
    },
    {
      "cell_type": "markdown",
      "metadata": {},
      "source": [
        "## Matplotlib \n",
        "### 1. Stackplot"
      ]
    },
    {
      "cell_type": "code",
      "execution_count": 4,
      "metadata": {},
      "outputs": [
        {
          "name": "stdout",
          "output_type": "stream",
          "text": [
            "[[12 19 19 19 18 15 11 17 13 10 17 14 20 12 16  9 22 16 19  9 16 18 16 17\n",
            "  10 13 16 21 12 15 20 19]\n",
            " [12 19 19 19 18 15 11 17 13 10 17 14 20 12 16  9 22 16 19  9 16 18 16 17\n",
            "  10 13 16 21 12 15 20 19]]\n"
          ]
        }
      ],
      "source": [
        "# Зависимость размера зарплаты сотрудников в зависимости от их возраста\n",
        "\n",
        "salary = data[(data['salary'] != None)]['age'].value_counts()\n",
        "\n",
        "salary_stack = np.array(salary.sort_index())\n",
        "salary_array = np.array([salary.sort_index(), salary_stack])\n",
        "\n",
        "print(salary_array)\n"
      ]
    },
    {
      "cell_type": "code",
      "execution_count": 5,
      "metadata": {},
      "outputs": [
        {
          "data": {
            "image/png": "[encoded data removed]",
            "text/plain": [
              "<Figure size 576x360 with 1 Axes>"
            ]
          },
          "metadata": {
            "needs_background": "light"
          },
          "output_type": "display_data"
        }
      ],
      "source": [
        "fig, ax = plt.subplots(figsize=(8, 5))\n",
        "\n",
        "ax.stackplot(salary.sort_index().index, salary_array, labels=['Salary', 'Total Salary'])\n",
        "\n",
        "ax.set_title('Зависимость зарплаты от возраста сотрудника')\n",
        "\n",
        "ax.legend(loc='upper left')\n",
        "\n",
        "ax.set_ylabel('Зарплата')\n",
        "ax.set_xlabel('Возраст')\n",
        "\n",
        "ax.set_xlim(left = salary.index.min(), right = salary.index.max())\n",
        "\n",
        "fig.tight_layout()\n",
        "\n",
        "plt.show()"
      ]
    },
    {
      "cell_type": "markdown",
      "metadata": {},
      "source": [
        "## Pandas\n",
        "### 2. Pie"
      ]
    },
    {
      "cell_type": "code",
      "execution_count": 6,
      "metadata": {},
      "outputs": [
        {
          "data": {
            "text/plain": [
              "<matplotlib.legend.Legend at 0x2338cc97760>"
            ]
          },
          "execution_count": 6,
          "metadata": {},
          "output_type": "execute_result"
        },
        {
          "data": {
            "image/png": "[encoded data removed]",
            "text/plain": [
              "<Figure size 432x288 with 1 Axes>"
            ]
          },
          "metadata": {},
          "output_type": "display_data"
        }
      ],
      "source": [
        "plt = data['satisfied'].value_counts().plot(kind='pie')\n",
        "\n",
        "plt.set_title('Диаграмма разделения сотрудников на удовлетворённость их работой')\n",
        "plt.set_ylabel('Удовлетворённость')\n",
        "\n",
        "plt.legend(loc='upper right')\n",
        "plt.legend(labels=['Довольны своей работой', 'Недовольны своей работой'])"
      ]
    },
    {
      "cell_type": "markdown",
      "metadata": {},
      "source": [
        "### 3. Density"
      ]
    },
    {
      "cell_type": "code",
      "execution_count": 7,
      "metadata": {},
      "outputs": [
        {
          "data": {
            "text/plain": [
              "<matplotlib.legend.Legend at 0x2338ef2b850>"
            ]
          },
          "execution_count": 7,
          "metadata": {},
          "output_type": "execute_result"
        },
        {
          "data": {
            "image/png": "[encoded data removed]",
            "text/plain": [
              "<Figure size 432x288 with 1 Axes>"
            ]
          },
          "metadata": {
            "needs_background": "light"
          },
          "output_type": "display_data"
        }
      ],
      "source": [
        "# plt = data.loc[data['salary'], 'age']\n",
        "\n",
        "plt = data.loc[data['salary'] == 86750, 'age'].plot(kind='density')\n",
        "plt = data.loc[data['salary'] == 42419, 'age'].plot(kind='density')\n",
        "plt = data.loc[data['salary'] == 65715, 'age'].plot(kind='density')\n",
        "plt = data.loc[data['salary'] == 29805, 'age'].plot(kind='density')\n",
        "plt = data.loc[data['salary'] == 24076, 'age'].plot(kind='density')\n",
        "\n",
        "# sns.kdeplot(data.loc[data['salary'] == 86750, \"age\"], shade=True, color=\"g\", label=\"Cyl=4\", alpha=.7)\n",
        "# sns.kdeplot(data.loc[data['salary'] == 42419, \"age\"], shade=True, color=\"deeppink\", label=\"Cyl=5\", alpha=.7)\n",
        "# sns.kdeplot(data.loc[data['salary'] == 65715, \"age\"], shade=True, color=\"dodgerblue\", label=\"Cyl=6\", alpha=.7)\n",
        "# sns.kdeplot(data.loc[data['salary'] == 29805, \"age\"], shade=True, color=\"orange\", label=\"Cyl=8\", alpha=.7)\n",
        "\n",
        "# # Decoration\n",
        "# plt.title('Density Plot of City Mileage by n_Cylinders', fontsize=22)\n",
        "# plt.legend()\n",
        "# plt.show()\n",
        "\n",
        "# print(plt)\n",
        "\n",
        "plt.set_title('Плотность зарплат сотрудников в зависимости от их возраста')\n",
        "plt.set_ylabel('Плотность зарплаты')\n",
        "plt.set_xlabel('Возраст')\n",
        "\n",
        "plt.legend(['86750 $', '42419 $', '65715 $', '29805 $', '24076 $'])"
      ]
    },
    {
      "cell_type": "markdown",
      "metadata": {},
      "source": [
        "### 4. Bar"
      ]
    },
    {
      "cell_type": "code",
      "execution_count": 8,
      "metadata": {},
      "outputs": [
        {
          "data": {
            "text/plain": [
              "Text(0.5, 0, 'Типы сотрудников')"
            ]
          },
          "execution_count": 8,
          "metadata": {},
          "output_type": "execute_result"
        },
        {
          "data": {
            "image/png": "[encoded data removed]",
            "text/plain": [
              "<Figure size 432x288 with 1 Axes>"
            ]
          },
          "metadata": {
            "needs_background": "light"
          },
          "output_type": "display_data"
        }
      ],
      "source": [
        "plt = data['satisfied'].value_counts().plot(kind='bar')\n",
        "\n",
        "plt.set_title('Удовлетворённость сотрудников их работой')\n",
        "plt.set_ylabel('Количество')\n",
        "plt.set_xlabel('Типы сотрудников')\n"
      ]
    },
    {
      "cell_type": "markdown",
      "metadata": {},
      "source": [
        "## Seaborn\n",
        "### 5. Boxplot"
      ]
    },
    {
      "cell_type": "code",
      "execution_count": 9,
      "metadata": {},
      "outputs": [
        {
          "data": {
            "image/png": "[encoded data removed]",
            "text/plain": [
              "<Figure size 432x288 with 1 Axes>"
            ]
          },
          "metadata": {
            "needs_background": "light"
          },
          "output_type": "display_data"
        }
      ],
      "source": [
        "plt = sns.boxplot(x='age', y='salary', data=data)\n",
        "\n",
        "plt.set_title(\"Размер зарплат в зависимости от возраста сотрудника\")\n",
        "plt.set_xlabel(\"Возраст\")\n",
        "plt.set_ylabel(\"Зарплата\");"
      ]
    },
    {
      "cell_type": "markdown",
      "metadata": {},
      "source": [
        "### 6. Countplot"
      ]
    },
    {
      "cell_type": "code",
      "execution_count": 10,
      "metadata": {},
      "outputs": [
        {
          "data": {
            "image/png": "[encoded data removed]",
            "text/plain": [
              "<Figure size 432x288 with 1 Axes>"
            ]
          },
          "metadata": {
            "needs_background": "light"
          },
          "output_type": "display_data"
        }
      ],
      "source": [
        "data['age_category'] = data['age'].apply(lambda age: 'меньше 20' if age < 20 else 'от 20 до 30' if age > 20 and age < 30 else 'от 30 до 40' if age > 30 and age < 40 else 'от 40 до 50' if age > 40 and age < 50 else 'от 50 до 60' if age > 50 and age < 60 else 'более 60')\n",
        "\n",
        "plt = sns.countplot(x='salary', hue='age_category', data=data.loc[data['age']!=0,:])\n",
        "\n",
        "plt.legend(loc='upper left')\n",
        "\n",
        "plt.set_title(\"Количество категорий возрастов по зарплате сотрудников\")\n",
        "plt.set_xlabel(\"Зарплата\")\n",
        "plt.set_ylabel(\"Возраст\");"
      ]
    },
    {
      "cell_type": "markdown",
      "metadata": {},
      "source": [
        "### 7. Distplot"
      ]
    },
    {
      "cell_type": "code",
      "execution_count": 11,
      "metadata": {},
      "outputs": [
        {
          "data": {
            "image/png": "[encoded data removed]",
            "text/plain": [
              "<Figure size 432x288 with 1 Axes>"
            ]
          },
          "metadata": {
            "needs_background": "light"
          },
          "output_type": "display_data"
        }
      ],
      "source": [
        "plt = sns.distplot(data.salary)\n",
        "\n",
        "plt.set_title(\"Плотность значения зарплат\")\n",
        "plt.set_xlabel(\"Зарплата\")\n",
        "plt.set_ylabel(\"Плотность\");"
      ]
    },
    {
      "cell_type": "markdown",
      "metadata": {},
      "source": [
        "### 8. Pairplot"
      ]
    },
    {
      "cell_type": "code",
      "execution_count": 12,
      "metadata": {},
      "outputs": [
        {
          "data": {
            "image/png": "[encoded data removed]",
            "text/plain": [
              "<Figure size 900x900 with 30 Axes>"
            ]
          },
          "metadata": {
            "needs_background": "light"
          },
          "output_type": "display_data"
        }
      ],
      "source": [
        "cols = ['satisfied', 'age', 'salary', 'job_level', 'awards']\n",
        "sns_plot = sns.pairplot(data[cols])"
      ]
    },
    {
      "cell_type": "code",
      "execution_count": 13,
      "metadata": {},
      "outputs": [
        {
          "name": "stdout",
          "output_type": "stream",
          "text": [
            "On-Campus             133\n",
            "Referral              131\n",
            "Walk-in               128\n",
            "Recruitment Agency    108\n",
            "Name: recruitment_type, dtype: int64\n"
          ]
        }
      ],
      "source": [
        "plt = data['recruitment_type'].value_counts()\n",
        "print(plt)"
      ]
    },
    {
      "cell_type": "markdown",
      "metadata": {},
      "source": [
        "# Задание 2. Построение моделей машинного обучения."
      ]
    },
    {
      "cell_type": "code",
      "execution_count": 14,
      "metadata": {},
      "outputs": [],
      "source": [
        "from sklearn.metrics import accuracy_score\n",
        "from sklearn.tree import DecisionTreeClassifier\n",
        "from sklearn.neighbors import KNeighborsClassifier\n",
        "from sklearn.linear_model import LogisticRegression\n",
        "from sklearn.ensemble import RandomForestRegressor\n",
        "from sklearn.ensemble import GradientBoostingClassifier\n",
        "from sklearn.model_selection import train_test_split\n",
        "from sklearn.metrics import classification_report\n",
        "\n",
        "# from sklearn.preprocessing import OneHotEncoder\n",
        "# from sklearn.preprocessing import LabelBinarizer\n",
        "from sklearn.preprocessing import LabelEncoder"
      ]
    },
    {
      "cell_type": "code",
      "execution_count": 15,
      "metadata": {},
      "outputs": [],
      "source": [
        "# перевод данных из текстового в числовой формат\n",
        "def str2int(data, columns):\n",
        "    # filtered_data = data.apply(pd.to_numeric, errors='ignore')\n",
        "\n",
        "    # This is what you need\n",
        "    le_dict = {}\n",
        "    for col in columns:\n",
        "        le_dict[col] = LabelEncoder().fit(data[col])\n",
        "        data[col] = le_dict[col].transform(data[col])\n",
        "        # filtered_data[col] = le_dict[col].transform(filtered_data[col])\n",
        "\n",
        "    # enc = OneHotEncoder()\n",
        "    # enc.fit(filtered_data)\n",
        "    # refreshed_data = enc.transform(filtered_data).toarray()\n",
        "\n",
        "    # new_data = data\n",
        "    # for col in new_data.columns:\n",
        "    #     new_data[col] = le_dict[col].transform(new_data[col])\n",
        "\n",
        "    # new_refreshed_data = enc.transform(new_data).toarray()"
      ]
    },
    {
      "cell_type": "markdown",
      "metadata": {},
      "source": [
        "## Этап 1.\n",
        "### Дерево решений"
      ]
    },
    {
      "cell_type": "code",
      "execution_count": 16,
      "metadata": {},
      "outputs": [
        {
          "data": {
            "text/html": [
              "<div>\n",
              "<style scoped>\n",
              "    .dataframe tbody tr th:only-of-type {\n",
              "        vertical-align: middle;\n",
              "    }\n",
              "\n",
              "    .dataframe tbody tr th {\n",
              "        vertical-align: top;\n",
              "    }\n",
              "\n",
              "    .dataframe thead th {\n",
              "        text-align: right;\n",
              "    }\n",
              "</style>\n",
              "<table border=\"1\" class=\"dataframe\">\n",
              "  <thead>\n",
              "    <tr style=\"text-align: right;\">\n",
              "      <th></th>\n",
              "      <th>Unnamed: 0</th>\n",
              "      <th>emp_id</th>\n",
              "      <th>age</th>\n",
              "      <th>Dept</th>\n",
              "      <th>location</th>\n",
              "      <th>education</th>\n",
              "      <th>recruitment_type</th>\n",
              "      <th>job_level</th>\n",
              "      <th>rating</th>\n",
              "      <th>onsite</th>\n",
              "      <th>awards</th>\n",
              "      <th>certifications</th>\n",
              "      <th>salary</th>\n",
              "      <th>satisfied</th>\n",
              "    </tr>\n",
              "  </thead>\n",
              "  <tbody>\n",
              "    <tr>\n",
              "      <th>0</th>\n",
              "      <td>0</td>\n",
              "      <td>86</td>\n",
              "      <td>28</td>\n",
              "      <td>0</td>\n",
              "      <td>1</td>\n",
              "      <td>0</td>\n",
              "      <td>2</td>\n",
              "      <td>5</td>\n",
              "      <td>2</td>\n",
              "      <td>0</td>\n",
              "      <td>1</td>\n",
              "      <td>0</td>\n",
              "      <td>86750</td>\n",
              "      <td>1</td>\n",
              "    </tr>\n",
              "    <tr>\n",
              "      <th>1</th>\n",
              "      <td>1</td>\n",
              "      <td>408</td>\n",
              "      <td>50</td>\n",
              "      <td>4</td>\n",
              "      <td>1</td>\n",
              "      <td>0</td>\n",
              "      <td>3</td>\n",
              "      <td>3</td>\n",
              "      <td>5</td>\n",
              "      <td>1</td>\n",
              "      <td>2</td>\n",
              "      <td>1</td>\n",
              "      <td>42419</td>\n",
              "      <td>0</td>\n",
              "    </tr>\n",
              "    <tr>\n",
              "      <th>2</th>\n",
              "      <td>2</td>\n",
              "      <td>461</td>\n",
              "      <td>43</td>\n",
              "      <td>4</td>\n",
              "      <td>1</td>\n",
              "      <td>1</td>\n",
              "      <td>2</td>\n",
              "      <td>4</td>\n",
              "      <td>1</td>\n",
              "      <td>0</td>\n",
              "      <td>2</td>\n",
              "      <td>0</td>\n",
              "      <td>65715</td>\n",
              "      <td>0</td>\n",
              "    </tr>\n",
              "    <tr>\n",
              "      <th>3</th>\n",
              "      <td>3</td>\n",
              "      <td>361</td>\n",
              "      <td>44</td>\n",
              "      <td>3</td>\n",
              "      <td>0</td>\n",
              "      <td>0</td>\n",
              "      <td>0</td>\n",
              "      <td>2</td>\n",
              "      <td>3</td>\n",
              "      <td>1</td>\n",
              "      <td>0</td>\n",
              "      <td>0</td>\n",
              "      <td>29805</td>\n",
              "      <td>1</td>\n",
              "    </tr>\n",
              "    <tr>\n",
              "      <th>4</th>\n",
              "      <td>4</td>\n",
              "      <td>69</td>\n",
              "      <td>33</td>\n",
              "      <td>0</td>\n",
              "      <td>0</td>\n",
              "      <td>1</td>\n",
              "      <td>1</td>\n",
              "      <td>2</td>\n",
              "      <td>1</td>\n",
              "      <td>0</td>\n",
              "      <td>5</td>\n",
              "      <td>0</td>\n",
              "      <td>29805</td>\n",
              "      <td>1</td>\n",
              "    </tr>\n",
              "    <tr>\n",
              "      <th>5</th>\n",
              "      <td>5</td>\n",
              "      <td>277</td>\n",
              "      <td>40</td>\n",
              "      <td>2</td>\n",
              "      <td>1</td>\n",
              "      <td>1</td>\n",
              "      <td>2</td>\n",
              "      <td>3</td>\n",
              "      <td>3</td>\n",
              "      <td>0</td>\n",
              "      <td>7</td>\n",
              "      <td>1</td>\n",
              "      <td>42419</td>\n",
              "      <td>1</td>\n",
              "    </tr>\n",
              "    <tr>\n",
              "      <th>6</th>\n",
              "      <td>6</td>\n",
              "      <td>204</td>\n",
              "      <td>26</td>\n",
              "      <td>2</td>\n",
              "      <td>1</td>\n",
              "      <td>1</td>\n",
              "      <td>2</td>\n",
              "      <td>5</td>\n",
              "      <td>5</td>\n",
              "      <td>0</td>\n",
              "      <td>2</td>\n",
              "      <td>0</td>\n",
              "      <td>86750</td>\n",
              "      <td>0</td>\n",
              "    </tr>\n",
              "    <tr>\n",
              "      <th>7</th>\n",
              "      <td>7</td>\n",
              "      <td>447</td>\n",
              "      <td>25</td>\n",
              "      <td>4</td>\n",
              "      <td>0</td>\n",
              "      <td>1</td>\n",
              "      <td>1</td>\n",
              "      <td>1</td>\n",
              "      <td>1</td>\n",
              "      <td>0</td>\n",
              "      <td>4</td>\n",
              "      <td>0</td>\n",
              "      <td>24076</td>\n",
              "      <td>0</td>\n",
              "    </tr>\n",
              "    <tr>\n",
              "      <th>8</th>\n",
              "      <td>8</td>\n",
              "      <td>66</td>\n",
              "      <td>35</td>\n",
              "      <td>0</td>\n",
              "      <td>0</td>\n",
              "      <td>0</td>\n",
              "      <td>2</td>\n",
              "      <td>3</td>\n",
              "      <td>4</td>\n",
              "      <td>0</td>\n",
              "      <td>0</td>\n",
              "      <td>0</td>\n",
              "      <td>42419</td>\n",
              "      <td>1</td>\n",
              "    </tr>\n",
              "    <tr>\n",
              "      <th>9</th>\n",
              "      <td>9</td>\n",
              "      <td>493</td>\n",
              "      <td>45</td>\n",
              "      <td>4</td>\n",
              "      <td>0</td>\n",
              "      <td>0</td>\n",
              "      <td>2</td>\n",
              "      <td>3</td>\n",
              "      <td>3</td>\n",
              "      <td>0</td>\n",
              "      <td>9</td>\n",
              "      <td>0</td>\n",
              "      <td>42419</td>\n",
              "      <td>0</td>\n",
              "    </tr>\n",
              "    <tr>\n",
              "      <th>10</th>\n",
              "      <td>10</td>\n",
              "      <td>121</td>\n",
              "      <td>31</td>\n",
              "      <td>1</td>\n",
              "      <td>0</td>\n",
              "      <td>1</td>\n",
              "      <td>3</td>\n",
              "      <td>4</td>\n",
              "      <td>4</td>\n",
              "      <td>1</td>\n",
              "      <td>6</td>\n",
              "      <td>0</td>\n",
              "      <td>65715</td>\n",
              "      <td>1</td>\n",
              "    </tr>\n",
              "    <tr>\n",
              "      <th>11</th>\n",
              "      <td>11</td>\n",
              "      <td>406</td>\n",
              "      <td>43</td>\n",
              "      <td>4</td>\n",
              "      <td>1</td>\n",
              "      <td>0</td>\n",
              "      <td>1</td>\n",
              "      <td>2</td>\n",
              "      <td>1</td>\n",
              "      <td>0</td>\n",
              "      <td>9</td>\n",
              "      <td>1</td>\n",
              "      <td>29805</td>\n",
              "      <td>1</td>\n",
              "    </tr>\n",
              "    <tr>\n",
              "      <th>12</th>\n",
              "      <td>12</td>\n",
              "      <td>476</td>\n",
              "      <td>28</td>\n",
              "      <td>4</td>\n",
              "      <td>0</td>\n",
              "      <td>1</td>\n",
              "      <td>0</td>\n",
              "      <td>3</td>\n",
              "      <td>4</td>\n",
              "      <td>1</td>\n",
              "      <td>0</td>\n",
              "      <td>0</td>\n",
              "      <td>42419</td>\n",
              "      <td>0</td>\n",
              "    </tr>\n",
              "    <tr>\n",
              "      <th>13</th>\n",
              "      <td>13</td>\n",
              "      <td>224</td>\n",
              "      <td>48</td>\n",
              "      <td>2</td>\n",
              "      <td>1</td>\n",
              "      <td>0</td>\n",
              "      <td>2</td>\n",
              "      <td>3</td>\n",
              "      <td>4</td>\n",
              "      <td>1</td>\n",
              "      <td>8</td>\n",
              "      <td>0</td>\n",
              "      <td>42419</td>\n",
              "      <td>1</td>\n",
              "    </tr>\n",
              "    <tr>\n",
              "      <th>14</th>\n",
              "      <td>14</td>\n",
              "      <td>264</td>\n",
              "      <td>52</td>\n",
              "      <td>2</td>\n",
              "      <td>0</td>\n",
              "      <td>0</td>\n",
              "      <td>1</td>\n",
              "      <td>5</td>\n",
              "      <td>1</td>\n",
              "      <td>1</td>\n",
              "      <td>7</td>\n",
              "      <td>0</td>\n",
              "      <td>86750</td>\n",
              "      <td>1</td>\n",
              "    </tr>\n",
              "    <tr>\n",
              "      <th>15</th>\n",
              "      <td>15</td>\n",
              "      <td>260</td>\n",
              "      <td>50</td>\n",
              "      <td>2</td>\n",
              "      <td>0</td>\n",
              "      <td>1</td>\n",
              "      <td>3</td>\n",
              "      <td>5</td>\n",
              "      <td>5</td>\n",
              "      <td>1</td>\n",
              "      <td>6</td>\n",
              "      <td>0</td>\n",
              "      <td>86750</td>\n",
              "      <td>1</td>\n",
              "    </tr>\n",
              "    <tr>\n",
              "      <th>16</th>\n",
              "      <td>16</td>\n",
              "      <td>165</td>\n",
              "      <td>34</td>\n",
              "      <td>1</td>\n",
              "      <td>0</td>\n",
              "      <td>0</td>\n",
              "      <td>0</td>\n",
              "      <td>1</td>\n",
              "      <td>4</td>\n",
              "      <td>1</td>\n",
              "      <td>9</td>\n",
              "      <td>0</td>\n",
              "      <td>24076</td>\n",
              "      <td>0</td>\n",
              "    </tr>\n",
              "    <tr>\n",
              "      <th>17</th>\n",
              "      <td>17</td>\n",
              "      <td>213</td>\n",
              "      <td>24</td>\n",
              "      <td>2</td>\n",
              "      <td>1</td>\n",
              "      <td>1</td>\n",
              "      <td>1</td>\n",
              "      <td>4</td>\n",
              "      <td>4</td>\n",
              "      <td>0</td>\n",
              "      <td>6</td>\n",
              "      <td>0</td>\n",
              "      <td>65715</td>\n",
              "      <td>1</td>\n",
              "    </tr>\n",
              "    <tr>\n",
              "      <th>18</th>\n",
              "      <td>18</td>\n",
              "      <td>51</td>\n",
              "      <td>54</td>\n",
              "      <td>0</td>\n",
              "      <td>1</td>\n",
              "      <td>0</td>\n",
              "      <td>0</td>\n",
              "      <td>1</td>\n",
              "      <td>5</td>\n",
              "      <td>0</td>\n",
              "      <td>4</td>\n",
              "      <td>0</td>\n",
              "      <td>24076</td>\n",
              "      <td>1</td>\n",
              "    </tr>\n",
              "    <tr>\n",
              "      <th>19</th>\n",
              "      <td>19</td>\n",
              "      <td>344</td>\n",
              "      <td>25</td>\n",
              "      <td>3</td>\n",
              "      <td>0</td>\n",
              "      <td>1</td>\n",
              "      <td>0</td>\n",
              "      <td>5</td>\n",
              "      <td>4</td>\n",
              "      <td>0</td>\n",
              "      <td>4</td>\n",
              "      <td>0</td>\n",
              "      <td>86750</td>\n",
              "      <td>1</td>\n",
              "    </tr>\n",
              "    <tr>\n",
              "      <th>20</th>\n",
              "      <td>20</td>\n",
              "      <td>73</td>\n",
              "      <td>25</td>\n",
              "      <td>0</td>\n",
              "      <td>1</td>\n",
              "      <td>1</td>\n",
              "      <td>0</td>\n",
              "      <td>2</td>\n",
              "      <td>4</td>\n",
              "      <td>1</td>\n",
              "      <td>4</td>\n",
              "      <td>0</td>\n",
              "      <td>29805</td>\n",
              "      <td>1</td>\n",
              "    </tr>\n",
              "    <tr>\n",
              "      <th>21</th>\n",
              "      <td>21</td>\n",
              "      <td>102</td>\n",
              "      <td>50</td>\n",
              "      <td>0</td>\n",
              "      <td>1</td>\n",
              "      <td>0</td>\n",
              "      <td>2</td>\n",
              "      <td>5</td>\n",
              "      <td>4</td>\n",
              "      <td>0</td>\n",
              "      <td>0</td>\n",
              "      <td>0</td>\n",
              "      <td>86750</td>\n",
              "      <td>1</td>\n",
              "    </tr>\n",
              "    <tr>\n",
              "      <th>22</th>\n",
              "      <td>22</td>\n",
              "      <td>226</td>\n",
              "      <td>34</td>\n",
              "      <td>2</td>\n",
              "      <td>0</td>\n",
              "      <td>0</td>\n",
              "      <td>2</td>\n",
              "      <td>4</td>\n",
              "      <td>2</td>\n",
              "      <td>0</td>\n",
              "      <td>7</td>\n",
              "      <td>1</td>\n",
              "      <td>65715</td>\n",
              "      <td>1</td>\n",
              "    </tr>\n",
              "    <tr>\n",
              "      <th>23</th>\n",
              "      <td>23</td>\n",
              "      <td>384</td>\n",
              "      <td>37</td>\n",
              "      <td>3</td>\n",
              "      <td>0</td>\n",
              "      <td>1</td>\n",
              "      <td>3</td>\n",
              "      <td>5</td>\n",
              "      <td>5</td>\n",
              "      <td>0</td>\n",
              "      <td>0</td>\n",
              "      <td>1</td>\n",
              "      <td>86750</td>\n",
              "      <td>1</td>\n",
              "    </tr>\n",
              "    <tr>\n",
              "      <th>24</th>\n",
              "      <td>24</td>\n",
              "      <td>331</td>\n",
              "      <td>31</td>\n",
              "      <td>3</td>\n",
              "      <td>1</td>\n",
              "      <td>0</td>\n",
              "      <td>3</td>\n",
              "      <td>4</td>\n",
              "      <td>4</td>\n",
              "      <td>0</td>\n",
              "      <td>3</td>\n",
              "      <td>1</td>\n",
              "      <td>65715</td>\n",
              "      <td>0</td>\n",
              "    </tr>\n",
              "  </tbody>\n",
              "</table>\n",
              "</div>"
            ],
            "text/plain": [
              "    Unnamed: 0  emp_id  age  Dept  location  education  recruitment_type  \\\n",
              "0            0      86   28     0         1          0                 2   \n",
              "1            1     408   50     4         1          0                 3   \n",
              "2            2     461   43     4         1          1                 2   \n",
              "3            3     361   44     3         0          0                 0   \n",
              "4            4      69   33     0         0          1                 1   \n",
              "5            5     277   40     2         1          1                 2   \n",
              "6            6     204   26     2         1          1                 2   \n",
              "7            7     447   25     4         0          1                 1   \n",
              "8            8      66   35     0         0          0                 2   \n",
              "9            9     493   45     4         0          0                 2   \n",
              "10          10     121   31     1         0          1                 3   \n",
              "11          11     406   43     4         1          0                 1   \n",
              "12          12     476   28     4         0          1                 0   \n",
              "13          13     224   48     2         1          0                 2   \n",
              "14          14     264   52     2         0          0                 1   \n",
              "15          15     260   50     2         0          1                 3   \n",
              "16          16     165   34     1         0          0                 0   \n",
              "17          17     213   24     2         1          1                 1   \n",
              "18          18      51   54     0         1          0                 0   \n",
              "19          19     344   25     3         0          1                 0   \n",
              "20          20      73   25     0         1          1                 0   \n",
              "21          21     102   50     0         1          0                 2   \n",
              "22          22     226   34     2         0          0                 2   \n",
              "23          23     384   37     3         0          1                 3   \n",
              "24          24     331   31     3         1          0                 3   \n",
              "\n",
              "    job_level  rating  onsite  awards  certifications  salary  satisfied  \n",
              "0           5       2       0       1               0   86750          1  \n",
              "1           3       5       1       2               1   42419          0  \n",
              "2           4       1       0       2               0   65715          0  \n",
              "3           2       3       1       0               0   29805          1  \n",
              "4           2       1       0       5               0   29805          1  \n",
              "5           3       3       0       7               1   42419          1  \n",
              "6           5       5       0       2               0   86750          0  \n",
              "7           1       1       0       4               0   24076          0  \n",
              "8           3       4       0       0               0   42419          1  \n",
              "9           3       3       0       9               0   42419          0  \n",
              "10          4       4       1       6               0   65715          1  \n",
              "11          2       1       0       9               1   29805          1  \n",
              "12          3       4       1       0               0   42419          0  \n",
              "13          3       4       1       8               0   42419          1  \n",
              "14          5       1       1       7               0   86750          1  \n",
              "15          5       5       1       6               0   86750          1  \n",
              "16          1       4       1       9               0   24076          0  \n",
              "17          4       4       0       6               0   65715          1  \n",
              "18          1       5       0       4               0   24076          1  \n",
              "19          5       4       0       4               0   86750          1  \n",
              "20          2       4       1       4               0   29805          1  \n",
              "21          5       4       0       0               0   86750          1  \n",
              "22          4       2       0       7               1   65715          1  \n",
              "23          5       5       0       0               1   86750          1  \n",
              "24          4       4       0       3               1   65715          0  "
            ]
          },
          "execution_count": 16,
          "metadata": {},
          "output_type": "execute_result"
        }
      ],
      "source": [
        "data = pd.read_csv('Employee Satisfaction Index.csv')\n",
        "\n",
        "# del data['emp_id']\n",
        "\n",
        "# del data['Dept']\n",
        "# del data['location']\n",
        "\n",
        "# del data['recruitment_type']\n",
        "\n",
        "# # проверка emp_id на одинаковые значения\n",
        "# for i1, item1 in enumerate(data['emp_id']):\n",
        "#     for i2, item2 in enumerate(data['emp_id']):\n",
        "#         if i1 != i2 and item1 == item2:\n",
        "#             print(f'EQUAL! ITEM_1 = {item1}, ITEM_2 = {item2}, ID_1 = {i1}, ID_2 = {i2}')\n",
        "\n",
        "# перевод данных из текстового в числовой формат\n",
        "str2int(data, ['emp_id', 'Dept', 'location', 'education', 'recruitment_type'])\n",
        "\n",
        "# # проверка emp_id на одинаковые значения\n",
        "# for i1, item1 in enumerate(data['emp_id']):\n",
        "#     for i2, item2 in enumerate(data['emp_id']):\n",
        "#         if i1 != i2 and item1 == item2:\n",
        "#             print(f'EQUAL! ITEM_1 = {item1}, ITEM_2 = {item2}, ID_1 = {i1}, ID_2 = {i2}')\n",
        "\n",
        "target = data['satisfied']\n",
        "data.head(25)   "
      ]
    },
    {
      "cell_type": "markdown",
      "metadata": {},
      "source": [
        "Весь набор данных будет разделен на обучающую и тестовую выборки в соотношении 70:30 с использованием train_test_split:"
      ]
    },
    {
      "cell_type": "code",
      "execution_count": 17,
      "metadata": {},
      "outputs": [],
      "source": [
        "X_train, X_test, y_train, y_test = train_test_split(data, target, test_size=0.2, random_state=15)"
      ]
    },
    {
      "cell_type": "markdown",
      "metadata": {},
      "source": [
        "Размер получившихся выборок:"
      ]
    },
    {
      "cell_type": "code",
      "execution_count": 18,
      "metadata": {},
      "outputs": [
        {
          "data": {
            "text/plain": [
              "((400, 14), (100, 14), (400,), (100,))"
            ]
          },
          "execution_count": 18,
          "metadata": {},
          "output_type": "execute_result"
        }
      ],
      "source": [
        "X_train.shape, X_test.shape, y_train.shape, y_test.shape"
      ]
    },
    {
      "cell_type": "markdown",
      "metadata": {},
      "source": [
        "Создание дерева классификаии с использованием критерия качества разбиения - энтропия и максимальной глубиной дерева = 5."
      ]
    },
    {
      "cell_type": "code",
      "execution_count": 19,
      "metadata": {},
      "outputs": [],
      "source": [
        "clf_tree = DecisionTreeClassifier(criterion='entropy', max_depth=5, random_state=15)"
      ]
    },
    {
      "cell_type": "markdown",
      "metadata": {},
      "source": [
        "Обучение дерева:"
      ]
    },
    {
      "cell_type": "code",
      "execution_count": 20,
      "metadata": {},
      "outputs": [
        {
          "data": {
            "text/html": [
              "<style>#sk-container-id-1 {color: black;background-color: white;}#sk-container-id-1 pre{padding: 0;}#sk-container-id-1 div.sk-toggleable {background-color: white;}#sk-container-id-1 label.sk-toggleable__label {cursor: pointer;display: block;width: 100%;margin-bottom: 0;padding: 0.3em;box-sizing: border-box;text-align: center;}#sk-container-id-1 label.sk-toggleable__label-arrow:before {content: \"▸\";float: left;margin-right: 0.25em;color: #696969;}#sk-container-id-1 label.sk-toggleable__label-arrow:hover:before {color: black;}#sk-container-id-1 div.sk-estimator:hover label.sk-toggleable__label-arrow:before {color: black;}#sk-container-id-1 div.sk-toggleable__content {max-height: 0;max-width: 0;overflow: hidden;text-align: left;background-color: #f0f8ff;}#sk-container-id-1 div.sk-toggleable__content pre {margin: 0.2em;color: black;border-radius: 0.25em;background-color: #f0f8ff;}#sk-container-id-1 input.sk-toggleable__control:checked~div.sk-toggleable__content {max-height: 200px;max-width: 100%;overflow: auto;}#sk-container-id-1 input.sk-toggleable__control:checked~label.sk-toggleable__label-arrow:before {content: \"▾\";}#sk-container-id-1 div.sk-estimator input.sk-toggleable__control:checked~label.sk-toggleable__label {background-color: #d4ebff;}#sk-container-id-1 div.sk-label input.sk-toggleable__control:checked~label.sk-toggleable__label {background-color: #d4ebff;}#sk-container-id-1 input.sk-hidden--visually {border: 0;clip: rect(1px 1px 1px 1px);clip: rect(1px, 1px, 1px, 1px);height: 1px;margin: -1px;overflow: hidden;padding: 0;position: absolute;width: 1px;}#sk-container-id-1 div.sk-estimator {font-family: monospace;background-color: #f0f8ff;border: 1px dotted black;border-radius: 0.25em;box-sizing: border-box;margin-bottom: 0.5em;}#sk-container-id-1 div.sk-estimator:hover {background-color: #d4ebff;}#sk-container-id-1 div.sk-parallel-item::after {content: \"\";width: 100%;border-bottom: 1px solid gray;flex-grow: 1;}#sk-container-id-1 div.sk-label:hover label.sk-toggleable__label {background-color: #d4ebff;}#sk-container-id-1 div.sk-serial::before {content: \"\";position: absolute;border-left: 1px solid gray;box-sizing: border-box;top: 0;bottom: 0;left: 50%;z-index: 0;}#sk-container-id-1 div.sk-serial {display: flex;flex-direction: column;align-items: center;background-color: white;padding-right: 0.2em;padding-left: 0.2em;position: relative;}#sk-container-id-1 div.sk-item {position: relative;z-index: 1;}#sk-container-id-1 div.sk-parallel {display: flex;align-items: stretch;justify-content: center;background-color: white;position: relative;}#sk-container-id-1 div.sk-item::before, #sk-container-id-1 div.sk-parallel-item::before {content: \"\";position: absolute;border-left: 1px solid gray;box-sizing: border-box;top: 0;bottom: 0;left: 50%;z-index: -1;}#sk-container-id-1 div.sk-parallel-item {display: flex;flex-direction: column;z-index: 1;position: relative;background-color: white;}#sk-container-id-1 div.sk-parallel-item:first-child::after {align-self: flex-end;width: 50%;}#sk-container-id-1 div.sk-parallel-item:last-child::after {align-self: flex-start;width: 50%;}#sk-container-id-1 div.sk-parallel-item:only-child::after {width: 0;}#sk-container-id-1 div.sk-dashed-wrapped {border: 1px dashed gray;margin: 0 0.4em 0.5em 0.4em;box-sizing: border-box;padding-bottom: 0.4em;background-color: white;}#sk-container-id-1 div.sk-label label {font-family: monospace;font-weight: bold;display: inline-block;line-height: 1.2em;}#sk-container-id-1 div.sk-label-container {text-align: center;}#sk-container-id-1 div.sk-container {/* jupyter's `normalize.less` sets `[hidden] { display: none; }` but bootstrap.min.css set `[hidden] { display: none !important; }` so we also need the `!important` here to be able to override the default hidden behavior on the sphinx rendered scikit-learn.org. See: https://github.com/scikit-learn/scikit-learn/issues/21755 */display: inline-block !important;position: relative;}#sk-container-id-1 div.sk-text-repr-fallback {display: none;}</style><div id=\"sk-container-id-1\" class=\"sk-top-container\"><div class=\"sk-text-repr-fallback\"><pre>DecisionTreeClassifier(criterion=&#x27;entropy&#x27;, max_depth=5, random_state=15)</pre><b>In a Jupyter environment, please rerun this cell to show the HTML representation or trust the notebook. <br />On GitHub, the HTML representation is unable to render, please try loading this page with nbviewer.org.</b></div><div class=\"sk-container\" hidden><div class=\"sk-item\"><div class=\"sk-estimator sk-toggleable\"><input class=\"sk-toggleable__control sk-hidden--visually\" id=\"sk-estimator-id-1\" type=\"checkbox\" checked><label for=\"sk-estimator-id-1\" class=\"sk-toggleable__label sk-toggleable__label-arrow\">DecisionTreeClassifier</label><div class=\"sk-toggleable__content\"><pre>DecisionTreeClassifier(criterion=&#x27;entropy&#x27;, max_depth=5, random_state=15)</pre></div></div></div></div></div>"
            ],
            "text/plain": [
              "DecisionTreeClassifier(criterion='entropy', max_depth=5, random_state=15)"
            ]
          },
          "execution_count": 20,
          "metadata": {},
          "output_type": "execute_result"
        }
      ],
      "source": [
        "clf_tree.fit(X_train, y_train)"
      ]
    },
    {
      "cell_type": "code",
      "execution_count": 21,
      "metadata": {},
      "outputs": [
        {
          "name": "stdout",
          "output_type": "stream",
          "text": [
            "              precision    recall  f1-score   support\n",
            "\n",
            "           0       1.00      1.00      1.00        43\n",
            "           1       1.00      1.00      1.00        57\n",
            "\n",
            "    accuracy                           1.00       100\n",
            "   macro avg       1.00      1.00      1.00       100\n",
            "weighted avg       1.00      1.00      1.00       100\n",
            "\n"
          ]
        }
      ],
      "source": [
        "print(classification_report(y_test, clf_tree.predict(X_test)))"
      ]
    },
    {
      "cell_type": "markdown",
      "metadata": {},
      "source": [
        "### Метод ближайших соседей"
      ]
    },
    {
      "cell_type": "code",
      "execution_count": 22,
      "metadata": {},
      "outputs": [],
      "source": [
        "data = pd.read_csv('Employee Satisfaction Index.csv')\n",
        "str2int(data, ['emp_id', 'Dept', 'location', 'education', 'recruitment_type'])\n",
        "target = data['satisfied']\n",
        "X_train, X_test, y_train, y_test = train_test_split(data, target, test_size=0.2, random_state=15)"
      ]
    },
    {
      "cell_type": "code",
      "execution_count": 23,
      "metadata": {},
      "outputs": [],
      "source": [
        "knn = KNeighborsClassifier()\n",
        "knn.fit(X_train, y_train)\n",
        "\n",
        "pred_knn = knn.predict(X_test)"
      ]
    },
    {
      "cell_type": "code",
      "execution_count": 24,
      "metadata": {},
      "outputs": [
        {
          "name": "stdout",
          "output_type": "stream",
          "text": [
            "              precision    recall  f1-score   support\n",
            "\n",
            "           0       0.44      0.47      0.45        43\n",
            "           1       0.58      0.56      0.57        57\n",
            "\n",
            "    accuracy                           0.52       100\n",
            "   macro avg       0.51      0.51      0.51       100\n",
            "weighted avg       0.52      0.52      0.52       100\n",
            "\n"
          ]
        }
      ],
      "source": [
        "print(classification_report(y_test, pred_knn, zero_division='warn'))"
      ]
    },
    {
      "cell_type": "markdown",
      "metadata": {},
      "source": [
        "### Логистическая регрессия"
      ]
    },
    {
      "cell_type": "code",
      "execution_count": 25,
      "metadata": {},
      "outputs": [],
      "source": [
        "data = pd.read_csv('Employee Satisfaction Index.csv')\n",
        "str2int(data, ['emp_id', 'Dept', 'location', 'education', 'recruitment_type'])\n",
        "target = data['satisfied']\n",
        "X_train, X_test, y_train, y_test = train_test_split(data, target, test_size=0.2, random_state=15)"
      ]
    },
    {
      "cell_type": "code",
      "execution_count": 26,
      "metadata": {},
      "outputs": [],
      "source": [
        "logit = LogisticRegression(random_state=15)\n",
        "logit.fit(X_train, y_train)\n",
        "pred_log = logit.predict(X_test)"
      ]
    },
    {
      "cell_type": "code",
      "execution_count": 27,
      "metadata": {},
      "outputs": [
        {
          "name": "stdout",
          "output_type": "stream",
          "text": [
            "              precision    recall  f1-score   support\n",
            "\n",
            "           0       0.53      0.23      0.32        43\n",
            "           1       0.59      0.84      0.70        57\n",
            "\n",
            "    accuracy                           0.58       100\n",
            "   macro avg       0.56      0.54      0.51       100\n",
            "weighted avg       0.56      0.58      0.54       100\n",
            "\n"
          ]
        }
      ],
      "source": [
        "print(classification_report(y_test, pred_log, zero_division='warn'))"
      ]
    },
    {
      "cell_type": "markdown",
      "metadata": {},
      "source": [
        "### Случайный лес"
      ]
    },
    {
      "cell_type": "code",
      "execution_count": 28,
      "metadata": {},
      "outputs": [],
      "source": [
        "data = pd.read_csv('Employee Satisfaction Index.csv')\n",
        "str2int(data, ['emp_id', 'Dept', 'location', 'education', 'recruitment_type'])\n",
        "target = data['satisfied']\n",
        "X_train, X_test, y_train, y_test = train_test_split(data, target, test_size=0.2, random_state=15)"
      ]
    },
    {
      "cell_type": "code",
      "execution_count": 29,
      "metadata": {},
      "outputs": [],
      "source": [
        "rndforest = RandomForestRegressor(random_state=15)\n",
        "rndforest.fit(X_train, y_train)\n",
        "pred_rndforest = rndforest.predict(X_test)"
      ]
    },
    {
      "cell_type": "code",
      "execution_count": 30,
      "metadata": {},
      "outputs": [
        {
          "name": "stdout",
          "output_type": "stream",
          "text": [
            "              precision    recall  f1-score   support\n",
            "\n",
            "           0       1.00      1.00      1.00        43\n",
            "           1       1.00      1.00      1.00        57\n",
            "\n",
            "    accuracy                           1.00       100\n",
            "   macro avg       1.00      1.00      1.00       100\n",
            "weighted avg       1.00      1.00      1.00       100\n",
            "\n"
          ]
        }
      ],
      "source": [
        "print(classification_report(y_test, pred_rndforest))"
      ]
    },
    {
      "cell_type": "markdown",
      "metadata": {},
      "source": [
        "### Градиентный бустинг"
      ]
    },
    {
      "cell_type": "code",
      "execution_count": 31,
      "metadata": {},
      "outputs": [],
      "source": [
        "data = pd.read_csv('Employee Satisfaction Index.csv')\n",
        "str2int(data, ['emp_id', 'Dept', 'location', 'education', 'recruitment_type'])\n",
        "target = data['satisfied']\n",
        "X_train, X_test, y_train, y_test = train_test_split(data, target, test_size=0.2, random_state=15)"
      ]
    },
    {
      "cell_type": "code",
      "execution_count": 32,
      "metadata": {},
      "outputs": [],
      "source": [
        "gradient = GradientBoostingClassifier(random_state=15)\n",
        "gradient.fit(X_train, y_train)\n",
        "pred_gradient = gradient.predict(X_test)"
      ]
    },
    {
      "cell_type": "code",
      "execution_count": 33,
      "metadata": {},
      "outputs": [
        {
          "name": "stdout",
          "output_type": "stream",
          "text": [
            "              precision    recall  f1-score   support\n",
            "\n",
            "           0       1.00      1.00      1.00        43\n",
            "           1       1.00      1.00      1.00        57\n",
            "\n",
            "    accuracy                           1.00       100\n",
            "   macro avg       1.00      1.00      1.00       100\n",
            "weighted avg       1.00      1.00      1.00       100\n",
            "\n"
          ]
        }
      ],
      "source": [
        "print(classification_report(y_test, pred_gradient, zero_division='warn'))"
      ]
    },
    {
      "cell_type": "markdown",
      "metadata": {},
      "source": [
        "## Этап 2."
      ]
    },
    {
      "cell_type": "markdown",
      "metadata": {},
      "source": [
        "Функция преподготовки данных:"
      ]
    },
    {
      "cell_type": "code",
      "execution_count": 34,
      "metadata": {},
      "outputs": [],
      "source": [
        "def preTraining(data):\n",
        "    data = data.loc[:, ~data.columns.str.contains('^Unnamed')]\n",
        "    del data['emp_id']\n",
        "    return data"
      ]
    },
    {
      "cell_type": "markdown",
      "metadata": {},
      "source": [
        "### Дерево решений"
      ]
    },
    {
      "cell_type": "code",
      "execution_count": 35,
      "metadata": {},
      "outputs": [],
      "source": [
        "data = pd.read_csv('Employee Satisfaction Index.csv')\n",
        "str2int(data, ['emp_id', 'Dept', 'location', 'education', 'recruitment_type'])\n",
        "\n",
        "data = preTraining(data)\n",
        "\n",
        "target = data['satisfied']\n",
        "X_train, X_test, y_train, y_test = train_test_split(data, target, test_size=0.2, random_state=15)"
      ]
    },
    {
      "cell_type": "markdown",
      "metadata": {},
      "source": [
        "Результаты из Этапа 1:\n",
        "\n",
        "              precision    recall  f1-score   support\n",
        "\n",
        "           0       1.00      1.00      1.00        43\n",
        "           1       1.00      1.00      1.00        57\n",
        "\n",
        "    accuracy                           1.00       100\n",
        "    macro avg      1.00      1.00      1.00       100\n",
        "    weighted avg   1.00      1.00      1.00       100\n"
      ]
    },
    {
      "cell_type": "code",
      "execution_count": 36,
      "metadata": {},
      "outputs": [
        {
          "name": "stdout",
          "output_type": "stream",
          "text": [
            "              precision    recall  f1-score   support\n",
            "\n",
            "           0       1.00      1.00      1.00        43\n",
            "           1       1.00      1.00      1.00        57\n",
            "\n",
            "    accuracy                           1.00       100\n",
            "   macro avg       1.00      1.00      1.00       100\n",
            "weighted avg       1.00      1.00      1.00       100\n",
            "\n"
          ]
        }
      ],
      "source": [
        "clf_tree = DecisionTreeClassifier(criterion='entropy', max_depth=5, random_state=15)\n",
        "clf_tree.fit(X_train, y_train)\n",
        "print(classification_report(y_test, clf_tree.predict(X_test)))"
      ]
    },
    {
      "cell_type": "markdown",
      "metadata": {},
      "source": [
        "### Метод ближайших соседей"
      ]
    },
    {
      "cell_type": "code",
      "execution_count": 37,
      "metadata": {},
      "outputs": [
        {
          "data": {
            "text/plain": [
              "(500, 14)"
            ]
          },
          "execution_count": 37,
          "metadata": {},
          "output_type": "execute_result"
        }
      ],
      "source": [
        "data = pd.read_csv('Employee Satisfaction Index.csv')\n",
        "str2int(data, ['emp_id', 'Dept', 'location', 'education', 'recruitment_type'])\n",
        "\n",
        "data.shape"
      ]
    },
    {
      "cell_type": "markdown",
      "metadata": {},
      "source": [
        "Преподготовка данных:"
      ]
    },
    {
      "cell_type": "code",
      "execution_count": 38,
      "metadata": {},
      "outputs": [
        {
          "data": {
            "text/html": [
              "<div>\n",
              "<style scoped>\n",
              "    .dataframe tbody tr th:only-of-type {\n",
              "        vertical-align: middle;\n",
              "    }\n",
              "\n",
              "    .dataframe tbody tr th {\n",
              "        vertical-align: top;\n",
              "    }\n",
              "\n",
              "    .dataframe thead th {\n",
              "        text-align: right;\n",
              "    }\n",
              "</style>\n",
              "<table border=\"1\" class=\"dataframe\">\n",
              "  <thead>\n",
              "    <tr style=\"text-align: right;\">\n",
              "      <th></th>\n",
              "      <th>age</th>\n",
              "      <th>Dept</th>\n",
              "      <th>location</th>\n",
              "      <th>education</th>\n",
              "      <th>recruitment_type</th>\n",
              "      <th>job_level</th>\n",
              "      <th>rating</th>\n",
              "      <th>onsite</th>\n",
              "      <th>awards</th>\n",
              "      <th>certifications</th>\n",
              "      <th>salary</th>\n",
              "      <th>satisfied</th>\n",
              "    </tr>\n",
              "  </thead>\n",
              "  <tbody>\n",
              "    <tr>\n",
              "      <th>0</th>\n",
              "      <td>28</td>\n",
              "      <td>0</td>\n",
              "      <td>1</td>\n",
              "      <td>0</td>\n",
              "      <td>2</td>\n",
              "      <td>5</td>\n",
              "      <td>2</td>\n",
              "      <td>0</td>\n",
              "      <td>1</td>\n",
              "      <td>0</td>\n",
              "      <td>86750</td>\n",
              "      <td>1</td>\n",
              "    </tr>\n",
              "    <tr>\n",
              "      <th>1</th>\n",
              "      <td>50</td>\n",
              "      <td>4</td>\n",
              "      <td>1</td>\n",
              "      <td>0</td>\n",
              "      <td>3</td>\n",
              "      <td>3</td>\n",
              "      <td>5</td>\n",
              "      <td>1</td>\n",
              "      <td>2</td>\n",
              "      <td>1</td>\n",
              "      <td>42419</td>\n",
              "      <td>0</td>\n",
              "    </tr>\n",
              "    <tr>\n",
              "      <th>2</th>\n",
              "      <td>43</td>\n",
              "      <td>4</td>\n",
              "      <td>1</td>\n",
              "      <td>1</td>\n",
              "      <td>2</td>\n",
              "      <td>4</td>\n",
              "      <td>1</td>\n",
              "      <td>0</td>\n",
              "      <td>2</td>\n",
              "      <td>0</td>\n",
              "      <td>65715</td>\n",
              "      <td>0</td>\n",
              "    </tr>\n",
              "    <tr>\n",
              "      <th>3</th>\n",
              "      <td>44</td>\n",
              "      <td>3</td>\n",
              "      <td>0</td>\n",
              "      <td>0</td>\n",
              "      <td>0</td>\n",
              "      <td>2</td>\n",
              "      <td>3</td>\n",
              "      <td>1</td>\n",
              "      <td>0</td>\n",
              "      <td>0</td>\n",
              "      <td>29805</td>\n",
              "      <td>1</td>\n",
              "    </tr>\n",
              "    <tr>\n",
              "      <th>4</th>\n",
              "      <td>33</td>\n",
              "      <td>0</td>\n",
              "      <td>0</td>\n",
              "      <td>1</td>\n",
              "      <td>1</td>\n",
              "      <td>2</td>\n",
              "      <td>1</td>\n",
              "      <td>0</td>\n",
              "      <td>5</td>\n",
              "      <td>0</td>\n",
              "      <td>29805</td>\n",
              "      <td>1</td>\n",
              "    </tr>\n",
              "    <tr>\n",
              "      <th>5</th>\n",
              "      <td>40</td>\n",
              "      <td>2</td>\n",
              "      <td>1</td>\n",
              "      <td>1</td>\n",
              "      <td>2</td>\n",
              "      <td>3</td>\n",
              "      <td>3</td>\n",
              "      <td>0</td>\n",
              "      <td>7</td>\n",
              "      <td>1</td>\n",
              "      <td>42419</td>\n",
              "      <td>1</td>\n",
              "    </tr>\n",
              "    <tr>\n",
              "      <th>6</th>\n",
              "      <td>26</td>\n",
              "      <td>2</td>\n",
              "      <td>1</td>\n",
              "      <td>1</td>\n",
              "      <td>2</td>\n",
              "      <td>5</td>\n",
              "      <td>5</td>\n",
              "      <td>0</td>\n",
              "      <td>2</td>\n",
              "      <td>0</td>\n",
              "      <td>86750</td>\n",
              "      <td>0</td>\n",
              "    </tr>\n",
              "    <tr>\n",
              "      <th>7</th>\n",
              "      <td>25</td>\n",
              "      <td>4</td>\n",
              "      <td>0</td>\n",
              "      <td>1</td>\n",
              "      <td>1</td>\n",
              "      <td>1</td>\n",
              "      <td>1</td>\n",
              "      <td>0</td>\n",
              "      <td>4</td>\n",
              "      <td>0</td>\n",
              "      <td>24076</td>\n",
              "      <td>0</td>\n",
              "    </tr>\n",
              "    <tr>\n",
              "      <th>8</th>\n",
              "      <td>35</td>\n",
              "      <td>0</td>\n",
              "      <td>0</td>\n",
              "      <td>0</td>\n",
              "      <td>2</td>\n",
              "      <td>3</td>\n",
              "      <td>4</td>\n",
              "      <td>0</td>\n",
              "      <td>0</td>\n",
              "      <td>0</td>\n",
              "      <td>42419</td>\n",
              "      <td>1</td>\n",
              "    </tr>\n",
              "    <tr>\n",
              "      <th>9</th>\n",
              "      <td>45</td>\n",
              "      <td>4</td>\n",
              "      <td>0</td>\n",
              "      <td>0</td>\n",
              "      <td>2</td>\n",
              "      <td>3</td>\n",
              "      <td>3</td>\n",
              "      <td>0</td>\n",
              "      <td>9</td>\n",
              "      <td>0</td>\n",
              "      <td>42419</td>\n",
              "      <td>0</td>\n",
              "    </tr>\n",
              "    <tr>\n",
              "      <th>10</th>\n",
              "      <td>31</td>\n",
              "      <td>1</td>\n",
              "      <td>0</td>\n",
              "      <td>1</td>\n",
              "      <td>3</td>\n",
              "      <td>4</td>\n",
              "      <td>4</td>\n",
              "      <td>1</td>\n",
              "      <td>6</td>\n",
              "      <td>0</td>\n",
              "      <td>65715</td>\n",
              "      <td>1</td>\n",
              "    </tr>\n",
              "    <tr>\n",
              "      <th>11</th>\n",
              "      <td>43</td>\n",
              "      <td>4</td>\n",
              "      <td>1</td>\n",
              "      <td>0</td>\n",
              "      <td>1</td>\n",
              "      <td>2</td>\n",
              "      <td>1</td>\n",
              "      <td>0</td>\n",
              "      <td>9</td>\n",
              "      <td>1</td>\n",
              "      <td>29805</td>\n",
              "      <td>1</td>\n",
              "    </tr>\n",
              "    <tr>\n",
              "      <th>12</th>\n",
              "      <td>28</td>\n",
              "      <td>4</td>\n",
              "      <td>0</td>\n",
              "      <td>1</td>\n",
              "      <td>0</td>\n",
              "      <td>3</td>\n",
              "      <td>4</td>\n",
              "      <td>1</td>\n",
              "      <td>0</td>\n",
              "      <td>0</td>\n",
              "      <td>42419</td>\n",
              "      <td>0</td>\n",
              "    </tr>\n",
              "    <tr>\n",
              "      <th>13</th>\n",
              "      <td>48</td>\n",
              "      <td>2</td>\n",
              "      <td>1</td>\n",
              "      <td>0</td>\n",
              "      <td>2</td>\n",
              "      <td>3</td>\n",
              "      <td>4</td>\n",
              "      <td>1</td>\n",
              "      <td>8</td>\n",
              "      <td>0</td>\n",
              "      <td>42419</td>\n",
              "      <td>1</td>\n",
              "    </tr>\n",
              "    <tr>\n",
              "      <th>14</th>\n",
              "      <td>52</td>\n",
              "      <td>2</td>\n",
              "      <td>0</td>\n",
              "      <td>0</td>\n",
              "      <td>1</td>\n",
              "      <td>5</td>\n",
              "      <td>1</td>\n",
              "      <td>1</td>\n",
              "      <td>7</td>\n",
              "      <td>0</td>\n",
              "      <td>86750</td>\n",
              "      <td>1</td>\n",
              "    </tr>\n",
              "    <tr>\n",
              "      <th>15</th>\n",
              "      <td>50</td>\n",
              "      <td>2</td>\n",
              "      <td>0</td>\n",
              "      <td>1</td>\n",
              "      <td>3</td>\n",
              "      <td>5</td>\n",
              "      <td>5</td>\n",
              "      <td>1</td>\n",
              "      <td>6</td>\n",
              "      <td>0</td>\n",
              "      <td>86750</td>\n",
              "      <td>1</td>\n",
              "    </tr>\n",
              "    <tr>\n",
              "      <th>16</th>\n",
              "      <td>34</td>\n",
              "      <td>1</td>\n",
              "      <td>0</td>\n",
              "      <td>0</td>\n",
              "      <td>0</td>\n",
              "      <td>1</td>\n",
              "      <td>4</td>\n",
              "      <td>1</td>\n",
              "      <td>9</td>\n",
              "      <td>0</td>\n",
              "      <td>24076</td>\n",
              "      <td>0</td>\n",
              "    </tr>\n",
              "    <tr>\n",
              "      <th>17</th>\n",
              "      <td>24</td>\n",
              "      <td>2</td>\n",
              "      <td>1</td>\n",
              "      <td>1</td>\n",
              "      <td>1</td>\n",
              "      <td>4</td>\n",
              "      <td>4</td>\n",
              "      <td>0</td>\n",
              "      <td>6</td>\n",
              "      <td>0</td>\n",
              "      <td>65715</td>\n",
              "      <td>1</td>\n",
              "    </tr>\n",
              "    <tr>\n",
              "      <th>18</th>\n",
              "      <td>54</td>\n",
              "      <td>0</td>\n",
              "      <td>1</td>\n",
              "      <td>0</td>\n",
              "      <td>0</td>\n",
              "      <td>1</td>\n",
              "      <td>5</td>\n",
              "      <td>0</td>\n",
              "      <td>4</td>\n",
              "      <td>0</td>\n",
              "      <td>24076</td>\n",
              "      <td>1</td>\n",
              "    </tr>\n",
              "    <tr>\n",
              "      <th>19</th>\n",
              "      <td>25</td>\n",
              "      <td>3</td>\n",
              "      <td>0</td>\n",
              "      <td>1</td>\n",
              "      <td>0</td>\n",
              "      <td>5</td>\n",
              "      <td>4</td>\n",
              "      <td>0</td>\n",
              "      <td>4</td>\n",
              "      <td>0</td>\n",
              "      <td>86750</td>\n",
              "      <td>1</td>\n",
              "    </tr>\n",
              "  </tbody>\n",
              "</table>\n",
              "</div>"
            ],
            "text/plain": [
              "    age  Dept  location  education  recruitment_type  job_level  rating  \\\n",
              "0    28     0         1          0                 2          5       2   \n",
              "1    50     4         1          0                 3          3       5   \n",
              "2    43     4         1          1                 2          4       1   \n",
              "3    44     3         0          0                 0          2       3   \n",
              "4    33     0         0          1                 1          2       1   \n",
              "5    40     2         1          1                 2          3       3   \n",
              "6    26     2         1          1                 2          5       5   \n",
              "7    25     4         0          1                 1          1       1   \n",
              "8    35     0         0          0                 2          3       4   \n",
              "9    45     4         0          0                 2          3       3   \n",
              "10   31     1         0          1                 3          4       4   \n",
              "11   43     4         1          0                 1          2       1   \n",
              "12   28     4         0          1                 0          3       4   \n",
              "13   48     2         1          0                 2          3       4   \n",
              "14   52     2         0          0                 1          5       1   \n",
              "15   50     2         0          1                 3          5       5   \n",
              "16   34     1         0          0                 0          1       4   \n",
              "17   24     2         1          1                 1          4       4   \n",
              "18   54     0         1          0                 0          1       5   \n",
              "19   25     3         0          1                 0          5       4   \n",
              "\n",
              "    onsite  awards  certifications  salary  satisfied  \n",
              "0        0       1               0   86750          1  \n",
              "1        1       2               1   42419          0  \n",
              "2        0       2               0   65715          0  \n",
              "3        1       0               0   29805          1  \n",
              "4        0       5               0   29805          1  \n",
              "5        0       7               1   42419          1  \n",
              "6        0       2               0   86750          0  \n",
              "7        0       4               0   24076          0  \n",
              "8        0       0               0   42419          1  \n",
              "9        0       9               0   42419          0  \n",
              "10       1       6               0   65715          1  \n",
              "11       0       9               1   29805          1  \n",
              "12       1       0               0   42419          0  \n",
              "13       1       8               0   42419          1  \n",
              "14       1       7               0   86750          1  \n",
              "15       1       6               0   86750          1  \n",
              "16       1       9               0   24076          0  \n",
              "17       0       6               0   65715          1  \n",
              "18       0       4               0   24076          1  \n",
              "19       0       4               0   86750          1  "
            ]
          },
          "execution_count": 38,
          "metadata": {},
          "output_type": "execute_result"
        }
      ],
      "source": [
        "data = preTraining(data)\n",
        "data.head(20)"
      ]
    },
    {
      "cell_type": "code",
      "execution_count": 39,
      "metadata": {},
      "outputs": [
        {
          "data": {
            "text/plain": [
              "(500, 12)"
            ]
          },
          "execution_count": 39,
          "metadata": {},
          "output_type": "execute_result"
        }
      ],
      "source": [
        "data.shape"
      ]
    },
    {
      "cell_type": "code",
      "execution_count": 40,
      "metadata": {},
      "outputs": [],
      "source": [
        "target = data['satisfied']\n",
        "# del data['satisfied']\n",
        "X_train, X_test, y_train, y_test = train_test_split(data, target, test_size=0.2, random_state=15)\n",
        "# X_train"
      ]
    },
    {
      "cell_type": "code",
      "execution_count": 41,
      "metadata": {},
      "outputs": [],
      "source": [
        "knn = KNeighborsClassifier()\n",
        "knn.fit(X_train, y_train)\n",
        "\n",
        "pred_knn = knn.predict(X_test)"
      ]
    },
    {
      "cell_type": "markdown",
      "metadata": {},
      "source": [
        "Результаты из Этапа 1:\n",
        "\n",
        "              precision    recall  f1-score   support\n",
        "\n",
        "           0       0.44      0.47      0.45        43\n",
        "           1       0.58      0.56      0.57        57\n",
        "\n",
        "    accuracy                           0.52       100\n",
        "    macro avg      0.51      0.51      0.51       100\n",
        "    weighted avg   0.52      0.52      0.52       100"
      ]
    },
    {
      "cell_type": "code",
      "execution_count": 42,
      "metadata": {},
      "outputs": [
        {
          "name": "stdout",
          "output_type": "stream",
          "text": [
            "              precision    recall  f1-score   support\n",
            "\n",
            "           0       0.52      0.53      0.53        43\n",
            "           1       0.64      0.63      0.64        57\n",
            "\n",
            "    accuracy                           0.59       100\n",
            "   macro avg       0.58      0.58      0.58       100\n",
            "weighted avg       0.59      0.59      0.59       100\n",
            "\n"
          ]
        }
      ],
      "source": [
        "print(classification_report(y_test, pred_knn, zero_division='warn'))"
      ]
    },
    {
      "cell_type": "markdown",
      "metadata": {},
      "source": [
        "### Логистическая регрессия"
      ]
    },
    {
      "cell_type": "code",
      "execution_count": 43,
      "metadata": {},
      "outputs": [],
      "source": [
        "data = pd.read_csv('Employee Satisfaction Index.csv')\n",
        "str2int(data, ['emp_id', 'Dept', 'location', 'education', 'recruitment_type'])"
      ]
    },
    {
      "cell_type": "markdown",
      "metadata": {},
      "source": [
        "Преподготовка данных:"
      ]
    },
    {
      "cell_type": "code",
      "execution_count": 44,
      "metadata": {},
      "outputs": [],
      "source": [
        "data = preTraining(data)\n",
        "# data.head(20)"
      ]
    },
    {
      "cell_type": "code",
      "execution_count": 45,
      "metadata": {},
      "outputs": [],
      "source": [
        "target = data['satisfied']\n",
        "X_train, X_test, y_train, y_test = train_test_split(data, target, test_size=0.2, random_state=15)"
      ]
    },
    {
      "cell_type": "code",
      "execution_count": 46,
      "metadata": {},
      "outputs": [],
      "source": [
        "logit = LogisticRegression(random_state=15)\n",
        "logit.fit(X_train, y_train)\n",
        "pred_log = logit.predict(X_test)"
      ]
    },
    {
      "cell_type": "markdown",
      "metadata": {},
      "source": [
        "Результаты из Этапа 1:\n",
        "\n",
        "              precision    recall  f1-score   support\n",
        "\n",
        "           0       0.53      0.23      0.32        43\n",
        "           1       0.59      0.84      0.70        57\n",
        "\n",
        "    accuracy                           0.58       100\n",
        "    macro avg      0.56      0.54      0.51       100\n",
        "    weighted avg   0.56      0.58      0.54       100\n"
      ]
    },
    {
      "cell_type": "code",
      "execution_count": 47,
      "metadata": {},
      "outputs": [
        {
          "name": "stdout",
          "output_type": "stream",
          "text": [
            "              precision    recall  f1-score   support\n",
            "\n",
            "           0       0.00      0.00      0.00        43\n",
            "           1       0.57      1.00      0.73        57\n",
            "\n",
            "    accuracy                           0.57       100\n",
            "   macro avg       0.28      0.50      0.36       100\n",
            "weighted avg       0.32      0.57      0.41       100\n",
            "\n"
          ]
        }
      ],
      "source": [
        "print(classification_report(y_test, pred_log, zero_division='warn'))"
      ]
    },
    {
      "cell_type": "markdown",
      "metadata": {},
      "source": [
        "### Случайный лес"
      ]
    },
    {
      "cell_type": "code",
      "execution_count": 48,
      "metadata": {},
      "outputs": [],
      "source": [
        "data = pd.read_csv('Employee Satisfaction Index.csv')\n",
        "str2int(data, ['emp_id', 'Dept', 'location', 'education', 'recruitment_type'])\n",
        "\n",
        "data = preTraining(data)\n",
        "\n",
        "target = data['satisfied']\n",
        "X_train, X_test, y_train, y_test = train_test_split(data, target, test_size=0.2, random_state=15)"
      ]
    },
    {
      "cell_type": "code",
      "execution_count": 49,
      "metadata": {},
      "outputs": [],
      "source": [
        "rndforest = RandomForestRegressor(random_state=15)\n",
        "rndforest.fit(X_train, y_train)\n",
        "pred_rndforest = rndforest.predict(X_test)"
      ]
    },
    {
      "cell_type": "markdown",
      "metadata": {},
      "source": [
        "Результаты из Этапа 1:\n",
        "\n",
        "              precision    recall  f1-score   support\n",
        "\n",
        "           0       1.00      1.00      1.00        43\n",
        "           1       1.00      1.00      1.00        57\n",
        "\n",
        "    accuracy                           1.00       100\n",
        "    macro avg      1.00      1.00      1.00       100\n",
        "    weighted avg   1.00      1.00      1.00       100\n"
      ]
    },
    {
      "cell_type": "code",
      "execution_count": 50,
      "metadata": {},
      "outputs": [
        {
          "name": "stdout",
          "output_type": "stream",
          "text": [
            "              precision    recall  f1-score   support\n",
            "\n",
            "           0       1.00      1.00      1.00        43\n",
            "           1       1.00      1.00      1.00        57\n",
            "\n",
            "    accuracy                           1.00       100\n",
            "   macro avg       1.00      1.00      1.00       100\n",
            "weighted avg       1.00      1.00      1.00       100\n",
            "\n"
          ]
        }
      ],
      "source": [
        "print(classification_report(y_test, pred_rndforest))"
      ]
    },
    {
      "cell_type": "markdown",
      "metadata": {},
      "source": [
        "### Градиентный бустинг"
      ]
    },
    {
      "cell_type": "code",
      "execution_count": 51,
      "metadata": {},
      "outputs": [],
      "source": [
        "data = pd.read_csv('Employee Satisfaction Index.csv')\n",
        "str2int(data, ['emp_id', 'Dept', 'location', 'education', 'recruitment_type'])\n",
        "\n",
        "data = preTraining(data)\n",
        "\n",
        "target = data['satisfied']\n",
        "X_train, X_test, y_train, y_test = train_test_split(data, target, test_size=0.2, random_state=15)"
      ]
    },
    {
      "cell_type": "code",
      "execution_count": 52,
      "metadata": {},
      "outputs": [],
      "source": [
        "gradient = GradientBoostingClassifier(random_state=15)\n",
        "gradient.fit(X_train, y_train)\n",
        "pred_gradient = gradient.predict(X_test)"
      ]
    },
    {
      "cell_type": "markdown",
      "metadata": {},
      "source": [
        "Результаты из Этапа 1:\n",
        "\n",
        "              precision    recall  f1-score   support\n",
        "\n",
        "           0       1.00      1.00      1.00        43\n",
        "           1       1.00      1.00      1.00        57\n",
        "\n",
        "    accuracy                           1.00       100\n",
        "    macro avg      1.00      1.00      1.00       100\n",
        "    weighted avg   1.00      1.00      1.00       100\n"
      ]
    },
    {
      "cell_type": "code",
      "execution_count": 53,
      "metadata": {},
      "outputs": [
        {
          "name": "stdout",
          "output_type": "stream",
          "text": [
            "              precision    recall  f1-score   support\n",
            "\n",
            "           0       1.00      1.00      1.00        43\n",
            "           1       1.00      1.00      1.00        57\n",
            "\n",
            "    accuracy                           1.00       100\n",
            "   macro avg       1.00      1.00      1.00       100\n",
            "weighted avg       1.00      1.00      1.00       100\n",
            "\n"
          ]
        }
      ],
      "source": [
        "print(classification_report(y_test, pred_gradient, zero_division='warn'))"
      ]
    },
    {
      "cell_type": "markdown",
      "metadata": {},
      "source": [
        "## Этап 3.\n",
        "### Дерево решений"
      ]
    },
    {
      "cell_type": "code",
      "execution_count": 54,
      "metadata": {},
      "outputs": [],
      "source": [
        "data = pd.read_csv('Employee Satisfaction Index.csv')\n",
        "str2int(data, ['emp_id', 'Dept', 'location', 'education', 'recruitment_type'])\n",
        "\n",
        "data = preTraining(data)\n",
        "\n",
        "target = data['satisfied']\n",
        "X_train, X_test, y_train, y_test = train_test_split(data, target, test_size=0.2, random_state=15)"
      ]
    },
    {
      "cell_type": "markdown",
      "metadata": {},
      "source": [
        "Результаты из Этапа 1:\n",
        "\n",
        "              precision    recall  f1-score   support\n",
        "\n",
        "           0       1.00      1.00      1.00        43\n",
        "           1       1.00      1.00      1.00        57\n",
        "\n",
        "    accuracy                           1.00       100\n",
        "    macro avg      1.00      1.00      1.00       100\n",
        "    weighted avg   1.00      1.00      1.00       100\n"
      ]
    },
    {
      "cell_type": "markdown",
      "metadata": {},
      "source": [
        "Результаты из Этапа 2:\n",
        "\n",
        "              precision    recall  f1-score   support\n",
        "\n",
        "           0       1.00      1.00      1.00        43\n",
        "           1       1.00      1.00      1.00        57\n",
        "\n",
        "    accuracy                           1.00       100\n",
        "    macro avg      1.00      1.00      1.00       100\n",
        "    weighted avg   1.00      1.00      1.00       100\n"
      ]
    },
    {
      "cell_type": "code",
      "execution_count": 55,
      "metadata": {},
      "outputs": [
        {
          "name": "stdout",
          "output_type": "stream",
          "text": [
            "              precision    recall  f1-score   support\n",
            "\n",
            "           0       1.00      1.00      1.00        43\n",
            "           1       1.00      1.00      1.00        57\n",
            "\n",
            "    accuracy                           1.00       100\n",
            "   macro avg       1.00      1.00      1.00       100\n",
            "weighted avg       1.00      1.00      1.00       100\n",
            "\n"
          ]
        }
      ],
      "source": [
        "clf_tree = DecisionTreeClassifier(criterion='entropy', max_depth=5, random_state=15)\n",
        "clf_tree.fit(X_train, y_train)\n",
        "print(classification_report(y_test, clf_tree.predict(X_test)))"
      ]
    },
    {
      "cell_type": "markdown",
      "metadata": {},
      "source": [
        "### Метод ближайших соседей"
      ]
    },
    {
      "cell_type": "code",
      "execution_count": null,
      "metadata": {},
      "outputs": [],
      "source": []
    },
    {
      "cell_type": "markdown",
      "metadata": {},
      "source": [
        "### Логистическая регрессия"
      ]
    },
    {
      "cell_type": "code",
      "execution_count": null,
      "metadata": {},
      "outputs": [],
      "source": []
    },
    {
      "cell_type": "markdown",
      "metadata": {},
      "source": [
        "### Случайный лес"
      ]
    },
    {
      "cell_type": "code",
      "execution_count": null,
      "metadata": {},
      "outputs": [],
      "source": []
    },
    {
      "cell_type": "markdown",
      "metadata": {},
      "source": [
        "### Градиентный бустинг"
      ]
    },
    {
      "cell_type": "code",
      "execution_count": null,
      "metadata": {},
      "outputs": [],
      "source": []
    }
  ],
  "metadata": {
    "colab": {
      "collapsed_sections": [],
      "name": "NLP_LAB.ipynb",
      "provenance": []
    },
    "interpreter": {
      "hash": "aeed2f677872a688f7584fd350efad3b30c68877e1ca21801fab4a64b8948cd4"
    },
    "kernelspec": {
      "display_name": "Python 3.10.4 64-bit",
      "language": "python",
      "name": "python3"
    },
    "language_info": {
      "codemirror_mode": {
        "name": "ipython",
        "version": 3
      },
      "file_extension": ".py",
      "mimetype": "text/x-python",
      "name": "python",
      "nbconvert_exporter": "python",
      "pygments_lexer": "ipython3",
      "version": "3.10.4"
    }
  },
  "nbformat": 4,
  "nbformat_minor": 0
}
