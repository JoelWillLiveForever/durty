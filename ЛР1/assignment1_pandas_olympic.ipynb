{
 "cells": [
  {
   "cell_type": "markdown",
   "metadata": {
    "pycharm": {
     "name": "#%% md\n"
    }
   },
   "source": [
    "# <center>Лабораторная работа #1\n",
    "## <center>Анализ данных Олимпийский игр с помощью Pandas"
   ]
  },
  {
   "cell_type": "markdown",
   "metadata": {},
   "source": [
    "### Задача\n",
    "В этом задании десять вопросов о 120-летней олимпийской истории. Ваша задача — заполнить недостающий код Python и выполнить вычисления в ячейках ниже"
   ]
  },
  {
   "cell_type": "markdown",
   "metadata": {},
   "source": [
    "Скачайте файл `athlete_events.csv`, ссылка [Здесь](https://drive.google.com/file/d/1f5v6Z2ayc7h698FG_98wP5x1Y2zZQeox/view?usp=sharing). Датасет следующие данные :\n",
    "\n",
    "- __ID__ - Уникальный номер каждого атлета\n",
    "- __Name__ - Имя атлета\n",
    "- __Sex__ - Пол('M'или 'F')\n",
    "- __Age__ - Возраст (Integer)\n",
    "- __Height__ - Рост( в сантиметрах)\n",
    "- __Weight__ - Вес(в килограммах)\n",
    "- __Team__ - Название команды\n",
    "- __NOC__ - Трехбуквенный код национального олимпийского комитета\n",
    "- __Games__ - Год и сезон\n",
    "- __Year__ - Год (Integer)\n",
    "- __Season__ - Лето или зима\n",
    "- __City__ - Принимающий город\n",
    "- __Sport__ - Название спорта\n",
    "- __Event__ - Соревнование\n",
    "- __Medal__ - Вид медали(Золото, серебро, бронза или NA)"
   ]
  },
  {
   "cell_type": "code",
   "execution_count": 2,
   "metadata": {},
   "outputs": [],
   "source": [
    "import numpy as np\n",
    "import pandas as pd"
   ]
  },
  {
   "cell_type": "code",
   "execution_count": 3,
   "metadata": {},
   "outputs": [],
   "source": [
    "data = pd.read_csv('athlete_events.csv')"
   ]
  },
  {
   "cell_type": "markdown",
   "metadata": {},
   "source": [
    "__1. Сколько лет было самым юным участникам Олимпийских игр 1992 года среди мужчин и женщин?__\n",
    "\n",
    "- 16 и 15\n",
    "- 14 и 13\n",
    "- 13 и 11\n",
    "- 11 и 12"
   ]
  },
  {
   "cell_type": "code",
   "execution_count": 4,
   "metadata": {},
   "outputs": [
    {
     "data": {
      "text/plain": [
       "(11.0, 12.0)"
      ]
     },
     "execution_count": 4,
     "metadata": {},
     "output_type": "execute_result"
    }
   ],
   "source": [
    "data[(data['Year'] == 1992) & (data['Sex'] == 'M')]['Age'].min(), \\\n",
    "data[(data['Year'] == 1992) & (data['Sex'] == 'F')]['Age'].min()"
   ]
  },
  {
   "cell_type": "markdown",
   "metadata": {},
   "source": [
    "__2. Какой процент составляют баскетболисты-мужчины среди всех участников-мужчин Олимпиады-2012? Округлите ответ до первого знака после запятой..__\n",
    "\n",
    "*Подсказка:*  здесь и далее при необходимости отбрасывайте дублирующихся спортсменов, чтобы считать только уникальных.\n",
    "\n",
    "- 0.2\n",
    "- 1.5 \n",
    "- 2.5\n",
    "- 7.7"
   ]
  },
  {
   "cell_type": "code",
   "execution_count": 5,
   "metadata": {},
   "outputs": [
    {
     "data": {
      "text/plain": [
       "2.5"
      ]
     },
     "execution_count": 5,
     "metadata": {},
     "output_type": "execute_result"
    }
   ],
   "source": [
    "all_mans = data[(data['Sex'] == 'M') & (data['Year'] == 2012)]\n",
    "all_mans_count = pd.unique(all_mans['ID']).shape[0]\n",
    "\n",
    "basketball = data[(data['Sex'] == 'M') & (data['Year'] == 2012) & (data['Sport'] == 'Basketball')]\n",
    "basketball_count = pd.unique(basketball['ID']).shape[0]\n",
    "\n",
    "percent = 100.0 * basketball_count / all_mans_count\n",
    "round(percent, 1)"
   ]
  },
  {
   "cell_type": "markdown",
   "metadata": {},
   "source": [
    "__3. Каковы среднее значение и стандартное отклонение роста теннисисток, участвовавших в Олимпийских играх 2000 года? Округлите ответ до первого знака после запятой.__\n",
    "\n",
    "- 171.8 и 6.5\n",
    "- 179.4 и 10\n",
    "- 180.7 и 6.7\n",
    "- 182.4 и 9.1"
   ]
  },
  {
   "cell_type": "code",
   "execution_count": 6,
   "metadata": {},
   "outputs": [
    {
     "name": "stdout",
     "output_type": "stream",
     "text": [
      "Height = 171.8, Std = 6.5\n"
     ]
    }
   ],
   "source": [
    "height = data[(data['Year'] == 2000) & (data['Sex'] == 'F') & (data['Sport'] == 'Tennis')]['Height'].mean()\n",
    "\n",
    "std = data[(data['Year'] == 2000) & (data['Sex'] == 'F') & (data['Sport'] == 'Tennis')]['Height'].std()\n",
    "\n",
    "print(f\"Height = {round(height, 1)}, Std = {round(std, 1)}\")"
   ]
  },
  {
   "cell_type": "markdown",
   "metadata": {},
   "source": [
    "__4. Найдите спортсмена, участвовавшего в Олимпиаде 2006 года, с наибольшим весом среди других участников той же Олимпиады. Каким видом спорта он или она занимались?__\n",
    "\n",
    "- Judo\n",
    "- Bobsleigh \n",
    "- Skeleton\n",
    "- Boxing"
   ]
  },
  {
   "cell_type": "code",
   "execution_count": 22,
   "metadata": {},
   "outputs": [
    {
     "data": {
      "text/plain": [
       "8102    Skeleton\n",
       "Name: Sport, dtype: object"
      ]
     },
     "execution_count": 22,
     "metadata": {},
     "output_type": "execute_result"
    }
   ],
   "source": [
    "max_weight = data[(data['Year'] == 2006)]['Weight'].max()\n",
    "sportsman = data[(data['Year'] == 2006) & (data['Weight'] == max_weight)]\n",
    "sportsman['Sport']"
   ]
  },
  {
   "cell_type": "markdown",
   "metadata": {},
   "source": [
    "__5. Сколько раз John Aalberg участвовал в Олимпиадах, проводившихся в разные годы?__\n",
    "\n",
    "- 0\n",
    "- 1 \n",
    "- 2 \n",
    "- 3"
   ]
  },
  {
   "cell_type": "code",
   "execution_count": 27,
   "metadata": {},
   "outputs": [
    {
     "data": {
      "text/plain": [
       "2"
      ]
     },
     "execution_count": 27,
     "metadata": {},
     "output_type": "execute_result"
    }
   ],
   "source": [
    "data[data['Name'] == 'John Aalberg']['Year'].unique().size"
   ]
  },
  {
   "cell_type": "markdown",
   "metadata": {},
   "source": [
    "__6. Сколько золотых медалей в теннисе завоевали спортсмены сборной Швейцарии(Switzerland) на Олимпиаде-2008? Считайте каждую медаль от каждого спортсмена.__\n",
    "\n",
    "- 0\n",
    "- 1 \n",
    "- 2\n",
    "- 3"
   ]
  },
  {
   "cell_type": "code",
   "execution_count": 32,
   "metadata": {},
   "outputs": [
    {
     "data": {
      "text/plain": [
       "2"
      ]
     },
     "execution_count": 32,
     "metadata": {},
     "output_type": "execute_result"
    }
   ],
   "source": [
    "data[(data['Sport'] == 'Tennis') & (data['Year'] == 2008) & (data['Team'] == 'Switzerland') & (data['Medal'] == 'Gold')].shape[0]"
   ]
  },
  {
   "cell_type": "markdown",
   "metadata": {},
   "source": [
    "__7. Правда ли, что на Олимпиаде-2016 Испания(_Spain_) завоевала меньше медалей, чем Италия(_Italy_)? Не учитывайте значения _NaN_ в столбце _Medal_ column.__\n",
    "\n",
    "- Да\n",
    "- Нет"
   ]
  },
  {
   "cell_type": "code",
   "execution_count": 48,
   "metadata": {},
   "outputs": [
    {
     "name": "stdout",
     "output_type": "stream",
     "text": [
      "Spain = 43, Italy = 70\n",
      "Да\n"
     ]
    }
   ],
   "source": [
    "spain_medals = data[(data['Year'] == 2016) & (data['Team'] == 'Spain') & (pd.Series.notna(data['Medal']))].shape[0]\n",
    "\n",
    "italy_medals = data[(data['Year'] == 2016) & (data['Team'] == 'Italy') & (pd.Series.notna(data['Medal']))].shape[0]\n",
    "\n",
    "print(f'Spain = {spain_medals}, Italy = {italy_medals}')\n",
    "\n",
    "if spain_medals < italy_medals:\n",
    "    print('Да')\n",
    "else:\n",
    "    print('Нет')\n",
    "\n",
    "# data[(data['Year'] == 2016) & (data['Team'] == 'Italy') & (pd.Series.notna(data['Medal']))]"
   ]
  },
  {
   "cell_type": "markdown",
   "metadata": {},
   "source": [
    "__8. К какой возрастной категории относилось меньше всего и больше всего участников Олимпиады-2008?__\n",
    "\n",
    "- [45-55] и [25-35) соответственно\n",
    "- [45-55] и [15-25) соответственно\n",
    "- [35-45) и [25-35) соответственно\n",
    "- [45-55] и [35-45) соответственно"
   ]
  },
  {
   "cell_type": "code",
   "execution_count": 61,
   "metadata": {},
   "outputs": [
    {
     "name": "stdout",
     "output_type": "stream",
     "text": [
      "[45-55] = 78, [25-35) = 5382, [15-25) = 4786, [35-45) = 630\n"
     ]
    }
   ],
   "source": [
    "range_45_55 = data[(data['Year'] == 2008) & (data['Age'] >= 45) & (data['Age'] <= 55)]['ID'].unique().shape[0]\n",
    "range_25_35 = data[(data['Year'] == 2008) & (data['Age'] >= 25) & (data['Age'] < 35)]['ID'].unique().shape[0]\n",
    "range_15_25 = data[(data['Year'] == 2008) & (data['Age'] >= 15) & (data['Age'] < 25)]['ID'].unique().shape[0]\n",
    "range_35_45 = data[(data['Year'] == 2008) & (data['Age'] >= 35) & (data['Age'] < 45)]['ID'].unique().shape[0]\n",
    "\n",
    "print(f\"[45-55] = {range_45_55}, [25-35) = {range_25_35}, [15-25) = {range_15_25}, [35-45) = {range_35_45}\")"
   ]
  },
  {
   "cell_type": "markdown",
   "metadata": {},
   "source": [
    "__9. Правда ли, что в Атланте(Atlanta) проводились летние Олимпийские игры? Правда ли, что в Скво-Вэлли(Squaw Valley) проходили зимние Олимпийские игры?__\n",
    "\n",
    "- Да, Да\n",
    "- Да, Нет\n",
    "- Нет, Да\n",
    "- Нет, Нет"
   ]
  },
  {
   "cell_type": "code",
   "execution_count": 68,
   "metadata": {},
   "outputs": [
    {
     "name": "stdout",
     "output_type": "stream",
     "text": [
      "В Атланте проводились летние Олимпийские игры!\n",
      "В Скво-Вэлли проводились зимние Олимпийские игры!\n"
     ]
    }
   ],
   "source": [
    "if len(data[(data['City'] == 'Atlanta') & (data['Season'] == 'Summer')]) != 0:\n",
    "    print(\"В Атланте проводились летние Олимпийские игры!\")\n",
    "else:\n",
    "    print(\"В Атланте не проводились летние Олимпийские игры!\")\n",
    "\n",
    "if len(data[(data['City'] == 'Squaw Valley') & (data['Season'] == 'Winter')]) != 0:\n",
    "    print(\"В Скво-Вэлли проводились зимние Олимпийские игры!\")\n",
    "else:\n",
    "    print(\"В Скво-Вэлли не проводились зимние Олимпийские игры!\")"
   ]
  },
  {
   "cell_type": "markdown",
   "metadata": {},
   "source": [
    "__10. Какова абсолютная разница между количеством уникальных видов спорта на Олимпийских играх 1986 года и Олимпийских играх 2002 года?__\n",
    "\n",
    "- 3 \n",
    "- 10\n",
    "- 15\n",
    "- 27"
   ]
  },
  {
   "cell_type": "code",
   "execution_count": 75,
   "metadata": {},
   "outputs": [
    {
     "name": "stdout",
     "output_type": "stream",
     "text": [
      "1986 = 0, 2002 = 15, Абсолютная разница = 15\n"
     ]
    }
   ],
   "source": [
    "count_1986 = len(data[data['Year'] == 1986]['Sport'].unique())\n",
    "count_2002 = len(data[data['Year'] == 2002]['Sport'].unique())\n",
    "\n",
    "print(f\"1986 = {count_1986}, 2002 = {count_2002}, Абсолютная разница = {count_2002 - count_1986}\")"
   ]
  },
  {
   "cell_type": "markdown",
   "metadata": {},
   "source": []
  }
 ],
 "metadata": {
  "kernelspec": {
   "display_name": "Python 3",
   "language": "python",
   "name": "python3"
  },
  "language_info": {
   "codemirror_mode": {
    "name": "ipython",
    "version": 3
   },
   "file_extension": ".py",
   "mimetype": "text/x-python",
   "name": "python",
   "nbconvert_exporter": "python",
   "pygments_lexer": "ipython3",
   "version": "3.10.1"
  }
 },
 "nbformat": 4,
 "nbformat_minor": 2
}
