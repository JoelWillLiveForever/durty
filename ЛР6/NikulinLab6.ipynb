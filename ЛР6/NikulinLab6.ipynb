{
 "cells": [
  {
   "cell_type": "code",
   "execution_count": 171,
   "metadata": {},
   "outputs": [],
   "source": [
    "%matplotlib inline\n",
    "import numpy as np\n",
    "import pandas as pd\n",
    "from cycler import cycler\n",
    "from matplotlib import pyplot as plt\n",
    "from sklearn.datasets import load_boston\n",
    "from sklearn.linear_model import Lasso, LassoCV, Ridge, RidgeCV\n",
    "from sklearn.model_selection import KFold, cross_val_score\n",
    "from sklearn.model_selection import KFold, cross_val_score, train_test_split, cross_validate, GridSearchCV"
   ]
  },
  {
   "cell_type": "code",
   "execution_count": 172,
   "metadata": {},
   "outputs": [
    {
     "data": {
      "text/html": [
       "<div>\n",
       "<style scoped>\n",
       "    .dataframe tbody tr th:only-of-type {\n",
       "        vertical-align: middle;\n",
       "    }\n",
       "\n",
       "    .dataframe tbody tr th {\n",
       "        vertical-align: top;\n",
       "    }\n",
       "\n",
       "    .dataframe thead th {\n",
       "        text-align: right;\n",
       "    }\n",
       "</style>\n",
       "<table border=\"1\" class=\"dataframe\">\n",
       "  <thead>\n",
       "    <tr style=\"text-align: right;\">\n",
       "      <th></th>\n",
       "      <th>Latitude</th>\n",
       "      <th>Longitude</th>\n",
       "      <th>City</th>\n",
       "      <th>Area</th>\n",
       "      <th>Address</th>\n",
       "      <th>Rooms</th>\n",
       "      <th>Floor/Total floors</th>\n",
       "      <th>Material</th>\n",
       "      <th>Total area</th>\n",
       "      <th>Live area</th>\n",
       "      <th>Kitchen</th>\n",
       "      <th>Toilet type</th>\n",
       "      <th>Price</th>\n",
       "      <th>Link</th>\n",
       "      <th>Seller</th>\n",
       "      <th>Comment</th>\n",
       "    </tr>\n",
       "  </thead>\n",
       "  <tbody>\n",
       "    <tr>\n",
       "      <th>0</th>\n",
       "      <td>59.911448</td>\n",
       "      <td>30.308232</td>\n",
       "      <td>Санкт-Петербург</td>\n",
       "      <td>Адмиралтейский район</td>\n",
       "      <td>Измайловский пр. 16</td>\n",
       "      <td>1</td>\n",
       "      <td>4/7</td>\n",
       "      <td>СФ</td>\n",
       "      <td>28.8</td>\n",
       "      <td>19.3</td>\n",
       "      <td>3.0</td>\n",
       "      <td>Р</td>\n",
       "      <td>2750</td>\n",
       "      <td>http://www.bn.ru/detail/flats/1133049.html</td>\n",
       "      <td>АН Панорама</td>\n",
       "      <td>доля, торг, ОС в коммун. кв</td>\n",
       "    </tr>\n",
       "    <tr>\n",
       "      <th>1</th>\n",
       "      <td>59.939095</td>\n",
       "      <td>30.315868</td>\n",
       "      <td>Санкт-Петербург</td>\n",
       "      <td>Адмиралтейский район</td>\n",
       "      <td>Грибоедова кан. наб. 144</td>\n",
       "      <td>1</td>\n",
       "      <td>1/5</td>\n",
       "      <td>СФК</td>\n",
       "      <td>27.0</td>\n",
       "      <td>18.5</td>\n",
       "      <td>4.0</td>\n",
       "      <td>С</td>\n",
       "      <td>3455</td>\n",
       "      <td>http://www.bn.ru/detail/flats/668279.html</td>\n",
       "      <td>Аристократ</td>\n",
       "      <td>ХС. ДГ. Более 3-х лет.</td>\n",
       "    </tr>\n",
       "    <tr>\n",
       "      <th>2</th>\n",
       "      <td>59.920230</td>\n",
       "      <td>30.283214</td>\n",
       "      <td>Санкт-Петербург</td>\n",
       "      <td>Адмиралтейский район</td>\n",
       "      <td>Володи Ермака ул. 17</td>\n",
       "      <td>1</td>\n",
       "      <td>1/6</td>\n",
       "      <td>К</td>\n",
       "      <td>42.0</td>\n",
       "      <td>26.0</td>\n",
       "      <td>9.0</td>\n",
       "      <td>Р</td>\n",
       "      <td>3700</td>\n",
       "      <td>http://www.bn.ru/detail/flats/1141100.html</td>\n",
       "      <td>Рудаков-Н</td>\n",
       "      <td>высок эт</td>\n",
       "    </tr>\n",
       "    <tr>\n",
       "      <th>3</th>\n",
       "      <td>59.917231</td>\n",
       "      <td>30.284741</td>\n",
       "      <td>Санкт-Петербург</td>\n",
       "      <td>Адмиралтейский район</td>\n",
       "      <td>Садовая ул. 122</td>\n",
       "      <td>1</td>\n",
       "      <td>1/4</td>\n",
       "      <td>К</td>\n",
       "      <td>31.0</td>\n",
       "      <td>16.9</td>\n",
       "      <td>9.0</td>\n",
       "      <td>С</td>\n",
       "      <td>3800</td>\n",
       "      <td>http://www.bn.ru/detail/flats/1182387.html</td>\n",
       "      <td>Итака</td>\n",
       "      <td>1-27218 ХС, ПП</td>\n",
       "    </tr>\n",
       "    <tr>\n",
       "      <th>4</th>\n",
       "      <td>59.919545</td>\n",
       "      <td>30.280834</td>\n",
       "      <td>Санкт-Петербург</td>\n",
       "      <td>Адмиралтейский район</td>\n",
       "      <td>Псковская ул. 22</td>\n",
       "      <td>1</td>\n",
       "      <td>5/6</td>\n",
       "      <td>К</td>\n",
       "      <td>29.3</td>\n",
       "      <td>16.7</td>\n",
       "      <td>5.0</td>\n",
       "      <td>Р</td>\n",
       "      <td>4000</td>\n",
       "      <td>http://www.bn.ru/detail/flats/1141107.html</td>\n",
       "      <td>Итака</td>\n",
       "      <td>1-22690 ХСб3лБалкВанная</td>\n",
       "    </tr>\n",
       "    <tr>\n",
       "      <th>5</th>\n",
       "      <td>59.917231</td>\n",
       "      <td>30.284741</td>\n",
       "      <td>Санкт-Петербург</td>\n",
       "      <td>Адмиралтейский район</td>\n",
       "      <td>Садовая ул. 122</td>\n",
       "      <td>1</td>\n",
       "      <td>1/4</td>\n",
       "      <td>СФ</td>\n",
       "      <td>30.6</td>\n",
       "      <td>17.0</td>\n",
       "      <td>6.0</td>\n",
       "      <td>С</td>\n",
       "      <td>4000</td>\n",
       "      <td>http://www.bn.ru/detail/flats/1133060.html</td>\n",
       "      <td>АРИН</td>\n",
       "      <td>ХС, ПП, зеленый двор</td>\n",
       "    </tr>\n",
       "    <tr>\n",
       "      <th>6</th>\n",
       "      <td>59.925655</td>\n",
       "      <td>30.305870</td>\n",
       "      <td>Санкт-Петербург</td>\n",
       "      <td>Адмиралтейский район</td>\n",
       "      <td>Б. Подьяческая ул. 8</td>\n",
       "      <td>1</td>\n",
       "      <td>1/5</td>\n",
       "      <td>СФ</td>\n",
       "      <td>43.5</td>\n",
       "      <td>24.5</td>\n",
       "      <td>6.7</td>\n",
       "      <td>Р</td>\n",
       "      <td>4070</td>\n",
       "      <td>http://www.bn.ru/detail/flats/1157867.html</td>\n",
       "      <td>Эксперт</td>\n",
       "      <td>89650763135</td>\n",
       "    </tr>\n",
       "    <tr>\n",
       "      <th>7</th>\n",
       "      <td>59.915977</td>\n",
       "      <td>30.328992</td>\n",
       "      <td>Санкт-Петербург</td>\n",
       "      <td>Адмиралтейский район</td>\n",
       "      <td>Рузовская ул. 19</td>\n",
       "      <td>1</td>\n",
       "      <td>1/6</td>\n",
       "      <td>СФ</td>\n",
       "      <td>47.0</td>\n",
       "      <td>18.2</td>\n",
       "      <td>14.6</td>\n",
       "      <td>С</td>\n",
       "      <td>4200</td>\n",
       "      <td>http://www.bn.ru/detail/flats/1113885.html</td>\n",
       "      <td>Норд</td>\n",
       "      <td>9098453 отд. входХС. 3г. есть</td>\n",
       "    </tr>\n",
       "    <tr>\n",
       "      <th>8</th>\n",
       "      <td>59.915675</td>\n",
       "      <td>30.297884</td>\n",
       "      <td>Санкт-Петербург</td>\n",
       "      <td>Адмиралтейский район</td>\n",
       "      <td>Троицкий пр. 20</td>\n",
       "      <td>1</td>\n",
       "      <td>5/5</td>\n",
       "      <td>К</td>\n",
       "      <td>33.3</td>\n",
       "      <td>15.4</td>\n",
       "      <td>7.3</td>\n",
       "      <td>Р</td>\n",
       "      <td>4554</td>\n",
       "      <td>http://www.bn.ru/detail/flats/1183451.html</td>\n",
       "      <td>АВЕНТИН</td>\n",
       "      <td>Закрытый двор. ВПП, ДГ</td>\n",
       "    </tr>\n",
       "    <tr>\n",
       "      <th>9</th>\n",
       "      <td>59.906012</td>\n",
       "      <td>30.276522</td>\n",
       "      <td>Санкт-Петербург</td>\n",
       "      <td>Адмиралтейский район</td>\n",
       "      <td>Старо-­Петергофский пр. 28</td>\n",
       "      <td>1</td>\n",
       "      <td>4/5</td>\n",
       "      <td>РЕК</td>\n",
       "      <td>35.4</td>\n",
       "      <td>29.9</td>\n",
       "      <td>8.0</td>\n",
       "      <td>С</td>\n",
       "      <td>4708</td>\n",
       "      <td>http://www.bn.ru/detail/flats/1175887.html</td>\n",
       "      <td>Primatech</td>\n",
       "      <td>воен. ип-ка, субсидии</td>\n",
       "    </tr>\n",
       "  </tbody>\n",
       "</table>\n",
       "</div>"
      ],
      "text/plain": [
       "    Latitude  Longitude             City                  Area  \\\n",
       "0  59.911448  30.308232  Санкт-Петербург  Адмиралтейский район   \n",
       "1  59.939095  30.315868  Санкт-Петербург  Адмиралтейский район   \n",
       "2  59.920230  30.283214  Санкт-Петербург  Адмиралтейский район   \n",
       "3  59.917231  30.284741  Санкт-Петербург  Адмиралтейский район   \n",
       "4  59.919545  30.280834  Санкт-Петербург  Адмиралтейский район   \n",
       "5  59.917231  30.284741  Санкт-Петербург  Адмиралтейский район   \n",
       "6  59.925655  30.305870  Санкт-Петербург  Адмиралтейский район   \n",
       "7  59.915977  30.328992  Санкт-Петербург  Адмиралтейский район   \n",
       "8  59.915675  30.297884  Санкт-Петербург  Адмиралтейский район   \n",
       "9  59.906012  30.276522  Санкт-Петербург  Адмиралтейский район   \n",
       "\n",
       "                      Address  Rooms Floor/Total floors Material  Total area  \\\n",
       "0         Измайловский пр. 16      1                4/7       СФ        28.8   \n",
       "1    Грибоедова кан. наб. 144      1                1/5      СФК        27.0   \n",
       "2        Володи Ермака ул. 17      1                1/6        К        42.0   \n",
       "3             Садовая ул. 122      1                1/4        К        31.0   \n",
       "4            Псковская ул. 22      1                5/6        К        29.3   \n",
       "5             Садовая ул. 122      1                1/4       СФ        30.6   \n",
       "6        Б. Подьяческая ул. 8      1                1/5       СФ        43.5   \n",
       "7            Рузовская ул. 19      1                1/6       СФ        47.0   \n",
       "8             Троицкий пр. 20      1                5/5        К        33.3   \n",
       "9  Старо-­Петергофский пр. 28      1                4/5      РЕК        35.4   \n",
       "\n",
       "   Live area  Kitchen Toilet type  Price  \\\n",
       "0       19.3      3.0           Р   2750   \n",
       "1       18.5      4.0           С   3455   \n",
       "2       26.0      9.0           Р   3700   \n",
       "3       16.9      9.0           С   3800   \n",
       "4       16.7      5.0           Р   4000   \n",
       "5       17.0      6.0           С   4000   \n",
       "6       24.5      6.7           Р   4070   \n",
       "7       18.2     14.6           С   4200   \n",
       "8       15.4      7.3           Р   4554   \n",
       "9       29.9      8.0           С   4708   \n",
       "\n",
       "                                         Link       Seller  \\\n",
       "0  http://www.bn.ru/detail/flats/1133049.html  АН Панорама   \n",
       "1   http://www.bn.ru/detail/flats/668279.html   Аристократ   \n",
       "2  http://www.bn.ru/detail/flats/1141100.html    Рудаков-Н   \n",
       "3  http://www.bn.ru/detail/flats/1182387.html        Итака   \n",
       "4  http://www.bn.ru/detail/flats/1141107.html        Итака   \n",
       "5  http://www.bn.ru/detail/flats/1133060.html         АРИН   \n",
       "6  http://www.bn.ru/detail/flats/1157867.html      Эксперт   \n",
       "7  http://www.bn.ru/detail/flats/1113885.html         Норд   \n",
       "8  http://www.bn.ru/detail/flats/1183451.html      АВЕНТИН   \n",
       "9  http://www.bn.ru/detail/flats/1175887.html    Primatech   \n",
       "\n",
       "                         Comment  \n",
       "0    доля, торг, ОС в коммун. кв  \n",
       "1         ХС. ДГ. Более 3-х лет.  \n",
       "2                       высок эт  \n",
       "3                 1-27218 ХС, ПП  \n",
       "4        1-22690 ХСб3лБалкВанная  \n",
       "5           ХС, ПП, зеленый двор  \n",
       "6                    89650763135  \n",
       "7  9098453 отд. входХС. 3г. есть  \n",
       "8         Закрытый двор. ВПП, ДГ  \n",
       "9          воен. ип-ка, субсидии  "
      ]
     },
     "execution_count": 172,
     "metadata": {},
     "output_type": "execute_result"
    }
   ],
   "source": [
    "original_data = pd.read_csv('piter_filtered.csv')\n",
    "my_data = original_data\n",
    "my_data.head(10)"
   ]
  },
  {
   "cell_type": "code",
   "execution_count": 173,
   "metadata": {},
   "outputs": [
    {
     "data": {
      "text/html": [
       "<div>\n",
       "<style scoped>\n",
       "    .dataframe tbody tr th:only-of-type {\n",
       "        vertical-align: middle;\n",
       "    }\n",
       "\n",
       "    .dataframe tbody tr th {\n",
       "        vertical-align: top;\n",
       "    }\n",
       "\n",
       "    .dataframe thead th {\n",
       "        text-align: right;\n",
       "    }\n",
       "</style>\n",
       "<table border=\"1\" class=\"dataframe\">\n",
       "  <thead>\n",
       "    <tr style=\"text-align: right;\">\n",
       "      <th></th>\n",
       "      <th>Rooms</th>\n",
       "      <th>Live area</th>\n",
       "      <th>Total area</th>\n",
       "      <th>Price</th>\n",
       "      <th>Kitchen</th>\n",
       "      <th>Адмиралтейский район</th>\n",
       "      <th>Василеостровский район</th>\n",
       "      <th>Выборгский район</th>\n",
       "      <th>Калининский район</th>\n",
       "      <th>Кировский район</th>\n",
       "      <th>...</th>\n",
       "      <th>Курортный район</th>\n",
       "      <th>Московский район</th>\n",
       "      <th>Невский район</th>\n",
       "      <th>Область</th>\n",
       "      <th>Петроградский район</th>\n",
       "      <th>Петродворцовый район</th>\n",
       "      <th>Приморский район</th>\n",
       "      <th>Пушкинский район</th>\n",
       "      <th>Фрунзенский район</th>\n",
       "      <th>Центральный район</th>\n",
       "    </tr>\n",
       "  </thead>\n",
       "  <tbody>\n",
       "    <tr>\n",
       "      <th>0</th>\n",
       "      <td>1</td>\n",
       "      <td>19.3</td>\n",
       "      <td>28.8</td>\n",
       "      <td>2750</td>\n",
       "      <td>3.0</td>\n",
       "      <td>1</td>\n",
       "      <td>0</td>\n",
       "      <td>0</td>\n",
       "      <td>0</td>\n",
       "      <td>0</td>\n",
       "      <td>...</td>\n",
       "      <td>0</td>\n",
       "      <td>0</td>\n",
       "      <td>0</td>\n",
       "      <td>0</td>\n",
       "      <td>0</td>\n",
       "      <td>0</td>\n",
       "      <td>0</td>\n",
       "      <td>0</td>\n",
       "      <td>0</td>\n",
       "      <td>0</td>\n",
       "    </tr>\n",
       "    <tr>\n",
       "      <th>1</th>\n",
       "      <td>1</td>\n",
       "      <td>18.5</td>\n",
       "      <td>27.0</td>\n",
       "      <td>3455</td>\n",
       "      <td>4.0</td>\n",
       "      <td>1</td>\n",
       "      <td>0</td>\n",
       "      <td>0</td>\n",
       "      <td>0</td>\n",
       "      <td>0</td>\n",
       "      <td>...</td>\n",
       "      <td>0</td>\n",
       "      <td>0</td>\n",
       "      <td>0</td>\n",
       "      <td>0</td>\n",
       "      <td>0</td>\n",
       "      <td>0</td>\n",
       "      <td>0</td>\n",
       "      <td>0</td>\n",
       "      <td>0</td>\n",
       "      <td>0</td>\n",
       "    </tr>\n",
       "    <tr>\n",
       "      <th>2</th>\n",
       "      <td>1</td>\n",
       "      <td>26.0</td>\n",
       "      <td>42.0</td>\n",
       "      <td>3700</td>\n",
       "      <td>9.0</td>\n",
       "      <td>1</td>\n",
       "      <td>0</td>\n",
       "      <td>0</td>\n",
       "      <td>0</td>\n",
       "      <td>0</td>\n",
       "      <td>...</td>\n",
       "      <td>0</td>\n",
       "      <td>0</td>\n",
       "      <td>0</td>\n",
       "      <td>0</td>\n",
       "      <td>0</td>\n",
       "      <td>0</td>\n",
       "      <td>0</td>\n",
       "      <td>0</td>\n",
       "      <td>0</td>\n",
       "      <td>0</td>\n",
       "    </tr>\n",
       "    <tr>\n",
       "      <th>3</th>\n",
       "      <td>1</td>\n",
       "      <td>16.9</td>\n",
       "      <td>31.0</td>\n",
       "      <td>3800</td>\n",
       "      <td>9.0</td>\n",
       "      <td>1</td>\n",
       "      <td>0</td>\n",
       "      <td>0</td>\n",
       "      <td>0</td>\n",
       "      <td>0</td>\n",
       "      <td>...</td>\n",
       "      <td>0</td>\n",
       "      <td>0</td>\n",
       "      <td>0</td>\n",
       "      <td>0</td>\n",
       "      <td>0</td>\n",
       "      <td>0</td>\n",
       "      <td>0</td>\n",
       "      <td>0</td>\n",
       "      <td>0</td>\n",
       "      <td>0</td>\n",
       "    </tr>\n",
       "    <tr>\n",
       "      <th>4</th>\n",
       "      <td>1</td>\n",
       "      <td>16.7</td>\n",
       "      <td>29.3</td>\n",
       "      <td>4000</td>\n",
       "      <td>5.0</td>\n",
       "      <td>1</td>\n",
       "      <td>0</td>\n",
       "      <td>0</td>\n",
       "      <td>0</td>\n",
       "      <td>0</td>\n",
       "      <td>...</td>\n",
       "      <td>0</td>\n",
       "      <td>0</td>\n",
       "      <td>0</td>\n",
       "      <td>0</td>\n",
       "      <td>0</td>\n",
       "      <td>0</td>\n",
       "      <td>0</td>\n",
       "      <td>0</td>\n",
       "      <td>0</td>\n",
       "      <td>0</td>\n",
       "    </tr>\n",
       "    <tr>\n",
       "      <th>...</th>\n",
       "      <td>...</td>\n",
       "      <td>...</td>\n",
       "      <td>...</td>\n",
       "      <td>...</td>\n",
       "      <td>...</td>\n",
       "      <td>...</td>\n",
       "      <td>...</td>\n",
       "      <td>...</td>\n",
       "      <td>...</td>\n",
       "      <td>...</td>\n",
       "      <td>...</td>\n",
       "      <td>...</td>\n",
       "      <td>...</td>\n",
       "      <td>...</td>\n",
       "      <td>...</td>\n",
       "      <td>...</td>\n",
       "      <td>...</td>\n",
       "      <td>...</td>\n",
       "      <td>...</td>\n",
       "      <td>...</td>\n",
       "      <td>...</td>\n",
       "    </tr>\n",
       "    <tr>\n",
       "      <th>6207</th>\n",
       "      <td>8</td>\n",
       "      <td>140.0</td>\n",
       "      <td>250.5</td>\n",
       "      <td>24000</td>\n",
       "      <td>20.0</td>\n",
       "      <td>0</td>\n",
       "      <td>0</td>\n",
       "      <td>0</td>\n",
       "      <td>0</td>\n",
       "      <td>0</td>\n",
       "      <td>...</td>\n",
       "      <td>0</td>\n",
       "      <td>0</td>\n",
       "      <td>0</td>\n",
       "      <td>0</td>\n",
       "      <td>0</td>\n",
       "      <td>0</td>\n",
       "      <td>0</td>\n",
       "      <td>0</td>\n",
       "      <td>0</td>\n",
       "      <td>1</td>\n",
       "    </tr>\n",
       "    <tr>\n",
       "      <th>6208</th>\n",
       "      <td>9</td>\n",
       "      <td>177.0</td>\n",
       "      <td>245.3</td>\n",
       "      <td>30000</td>\n",
       "      <td>16.4</td>\n",
       "      <td>0</td>\n",
       "      <td>0</td>\n",
       "      <td>0</td>\n",
       "      <td>0</td>\n",
       "      <td>0</td>\n",
       "      <td>...</td>\n",
       "      <td>0</td>\n",
       "      <td>0</td>\n",
       "      <td>0</td>\n",
       "      <td>0</td>\n",
       "      <td>0</td>\n",
       "      <td>0</td>\n",
       "      <td>0</td>\n",
       "      <td>0</td>\n",
       "      <td>0</td>\n",
       "      <td>1</td>\n",
       "    </tr>\n",
       "    <tr>\n",
       "      <th>6209</th>\n",
       "      <td>10</td>\n",
       "      <td>270.0</td>\n",
       "      <td>310.0</td>\n",
       "      <td>140000</td>\n",
       "      <td>24.0</td>\n",
       "      <td>0</td>\n",
       "      <td>0</td>\n",
       "      <td>0</td>\n",
       "      <td>0</td>\n",
       "      <td>0</td>\n",
       "      <td>...</td>\n",
       "      <td>0</td>\n",
       "      <td>0</td>\n",
       "      <td>0</td>\n",
       "      <td>0</td>\n",
       "      <td>0</td>\n",
       "      <td>0</td>\n",
       "      <td>0</td>\n",
       "      <td>0</td>\n",
       "      <td>0</td>\n",
       "      <td>1</td>\n",
       "    </tr>\n",
       "    <tr>\n",
       "      <th>6210</th>\n",
       "      <td>12</td>\n",
       "      <td>185.0</td>\n",
       "      <td>305.0</td>\n",
       "      <td>85000</td>\n",
       "      <td>0.0</td>\n",
       "      <td>0</td>\n",
       "      <td>0</td>\n",
       "      <td>0</td>\n",
       "      <td>0</td>\n",
       "      <td>0</td>\n",
       "      <td>...</td>\n",
       "      <td>0</td>\n",
       "      <td>0</td>\n",
       "      <td>0</td>\n",
       "      <td>0</td>\n",
       "      <td>0</td>\n",
       "      <td>0</td>\n",
       "      <td>0</td>\n",
       "      <td>0</td>\n",
       "      <td>0</td>\n",
       "      <td>1</td>\n",
       "    </tr>\n",
       "    <tr>\n",
       "      <th>6211</th>\n",
       "      <td>13</td>\n",
       "      <td>0.0</td>\n",
       "      <td>591.0</td>\n",
       "      <td>110000</td>\n",
       "      <td>20.0</td>\n",
       "      <td>0</td>\n",
       "      <td>0</td>\n",
       "      <td>0</td>\n",
       "      <td>0</td>\n",
       "      <td>0</td>\n",
       "      <td>...</td>\n",
       "      <td>0</td>\n",
       "      <td>0</td>\n",
       "      <td>0</td>\n",
       "      <td>0</td>\n",
       "      <td>0</td>\n",
       "      <td>0</td>\n",
       "      <td>0</td>\n",
       "      <td>0</td>\n",
       "      <td>0</td>\n",
       "      <td>1</td>\n",
       "    </tr>\n",
       "  </tbody>\n",
       "</table>\n",
       "<p>6212 rows × 24 columns</p>\n",
       "</div>"
      ],
      "text/plain": [
       "      Rooms  Live area  Total area   Price  Kitchen  Адмиралтейский район  \\\n",
       "0         1       19.3        28.8    2750      3.0                     1   \n",
       "1         1       18.5        27.0    3455      4.0                     1   \n",
       "2         1       26.0        42.0    3700      9.0                     1   \n",
       "3         1       16.9        31.0    3800      9.0                     1   \n",
       "4         1       16.7        29.3    4000      5.0                     1   \n",
       "...     ...        ...         ...     ...      ...                   ...   \n",
       "6207      8      140.0       250.5   24000     20.0                     0   \n",
       "6208      9      177.0       245.3   30000     16.4                     0   \n",
       "6209     10      270.0       310.0  140000     24.0                     0   \n",
       "6210     12      185.0       305.0   85000      0.0                     0   \n",
       "6211     13        0.0       591.0  110000     20.0                     0   \n",
       "\n",
       "      Василеостровский район  Выборгский район  Калининский район  \\\n",
       "0                          0                 0                  0   \n",
       "1                          0                 0                  0   \n",
       "2                          0                 0                  0   \n",
       "3                          0                 0                  0   \n",
       "4                          0                 0                  0   \n",
       "...                      ...               ...                ...   \n",
       "6207                       0                 0                  0   \n",
       "6208                       0                 0                  0   \n",
       "6209                       0                 0                  0   \n",
       "6210                       0                 0                  0   \n",
       "6211                       0                 0                  0   \n",
       "\n",
       "      Кировский район  ...  Курортный район  Московский район  Невский район  \\\n",
       "0                   0  ...                0                 0              0   \n",
       "1                   0  ...                0                 0              0   \n",
       "2                   0  ...                0                 0              0   \n",
       "3                   0  ...                0                 0              0   \n",
       "4                   0  ...                0                 0              0   \n",
       "...               ...  ...              ...               ...            ...   \n",
       "6207                0  ...                0                 0              0   \n",
       "6208                0  ...                0                 0              0   \n",
       "6209                0  ...                0                 0              0   \n",
       "6210                0  ...                0                 0              0   \n",
       "6211                0  ...                0                 0              0   \n",
       "\n",
       "      Область  Петроградский район  Петродворцовый район  Приморский район  \\\n",
       "0           0                    0                     0                 0   \n",
       "1           0                    0                     0                 0   \n",
       "2           0                    0                     0                 0   \n",
       "3           0                    0                     0                 0   \n",
       "4           0                    0                     0                 0   \n",
       "...       ...                  ...                   ...               ...   \n",
       "6207        0                    0                     0                 0   \n",
       "6208        0                    0                     0                 0   \n",
       "6209        0                    0                     0                 0   \n",
       "6210        0                    0                     0                 0   \n",
       "6211        0                    0                     0                 0   \n",
       "\n",
       "      Пушкинский район  Фрунзенский район  Центральный район  \n",
       "0                    0                  0                  0  \n",
       "1                    0                  0                  0  \n",
       "2                    0                  0                  0  \n",
       "3                    0                  0                  0  \n",
       "4                    0                  0                  0  \n",
       "...                ...                ...                ...  \n",
       "6207                 0                  0                  1  \n",
       "6208                 0                  0                  1  \n",
       "6209                 0                  0                  1  \n",
       "6210                 0                  0                  1  \n",
       "6211                 0                  0                  1  \n",
       "\n",
       "[6212 rows x 24 columns]"
      ]
     },
     "execution_count": 173,
     "metadata": {},
     "output_type": "execute_result"
    }
   ],
   "source": [
    "# y = my_data['Total area']\n",
    "# s=pd.Series(my_data['Material'])\n",
    "# Material=pd.get_dummies(s)\n",
    "# s1=pd.Series(my_data['Toilet type'])\n",
    "# ToiletType=pd.get_dummies(s1)\n",
    "# df = pd.DataFrame({'Live area': my_data['Live area'], 'Kitchen': my_data['Kitchen'], 'Price': my_data['Price'], })\n",
    "# df.join(ToiletType)\n",
    "# df.join(Material)\n",
    "y = my_data['Price']\n",
    "s = pd.Series(my_data['Seller'])\n",
    "Seller = pd.get_dummies(s)\n",
    "s1 = pd.Series(my_data['City'])\n",
    "City = pd.get_dummies(s1)\n",
    "s2 = pd.Series(my_data['Area'])\n",
    "Area = pd.get_dummies(s2)\n",
    "\n",
    "df = pd.DataFrame({'Rooms': my_data['Rooms'], 'Live area': my_data['Live area'], 'Total area': my_data['Total area'], 'Price': my_data['Price'], 'Kitchen': my_data['Kitchen'] })\n",
    "\n",
    "df.join(Seller)\n",
    "df.join(City)\n",
    "df.join(Area)"
   ]
  },
  {
   "cell_type": "code",
   "execution_count": 174,
   "metadata": {},
   "outputs": [],
   "source": [
    "X_train, X_test, y_train, y_test = train_test_split(df, y, test_size=0.2, random_state=42)"
   ]
  },
  {
   "cell_type": "code",
   "execution_count": 175,
   "metadata": {},
   "outputs": [
    {
     "data": {
      "text/plain": [
       "array([0., 0., 0., 1., 0.])"
      ]
     },
     "execution_count": 175,
     "metadata": {},
     "output_type": "execute_result"
    }
   ],
   "source": [
    "lasso = Lasso(alpha=0.1)\n",
    "lasso.fit(X_train, y_train)\n",
    "lasso.coef_"
   ]
  },
  {
   "cell_type": "code",
   "execution_count": 176,
   "metadata": {},
   "outputs": [
    {
     "data": {
      "text/plain": [
       "array([0.        , 0.        , 0.        , 0.99999994, 0.        ])"
      ]
     },
     "execution_count": 176,
     "metadata": {},
     "output_type": "execute_result"
    }
   ],
   "source": [
    "lasso = Lasso(alpha=10)\n",
    "lasso.fit(X_train, y_train)\n",
    "lasso.coef_"
   ]
  },
  {
   "cell_type": "code",
   "execution_count": 177,
   "metadata": {},
   "outputs": [
    {
     "data": {
      "image/png": "[encoded data removed]",
      "text/plain": [
       "<Figure size 432x288 with 1 Axes>"
      ]
     },
     "metadata": {
      "needs_background": "light"
     },
     "output_type": "display_data"
    }
   ],
   "source": [
    "n_alphas = 200\n",
    "alphas = np.linspace(0.1, 10, n_alphas)\n",
    "model = Lasso()\n",
    "\n",
    "coefs = []\n",
    "for a in alphas:\n",
    "    model.set_params(alpha=a)\n",
    "    model.fit(X_train, y_train)\n",
    "    coefs.append(model.coef_)\n",
    "\n",
    "ax = plt.gca()\n",
    "ax.set_prop_cycle(cycler(\"color\", [\"b\", \"r\", \"g\", \"c\", \"k\", \"y\", \"m\"]))\n",
    "\n",
    "ax.plot(alphas, coefs)\n",
    "ax.set_xscale(\"log\")\n",
    "ax.set_xlim(ax.get_xlim()[::-1])  # reverse axis\n",
    "plt.xlabel(\"alpha\")\n",
    "plt.ylabel(\"Веса\")\n",
    "plt.title(\"Коэффициенты лассо как функция регуляризации\")\n",
    "plt.axis(\"tight\")\n",
    "plt.show();"
   ]
  },
  {
   "cell_type": "code",
   "execution_count": 178,
   "metadata": {},
   "outputs": [
    {
     "data": {
      "text/plain": [
       "LassoCV(alphas=array([ 0.1       ,  0.14974874,  0.19949749,  0.24924623,  0.29899497,\n",
       "        0.34874372,  0.39849246,  0.44824121,  0.49798995,  0.54773869,\n",
       "        0.59748744,  0.64723618,  0.69698492,  0.74673367,  0.79648241,\n",
       "        0.84623116,  0.8959799 ,  0.94572864,  0.99547739,  1.04522613,\n",
       "        1.09497487,  1.14472362,  1.19447236,  1.24422111,  1.29396985,\n",
       "        1.34371859,  1.39346734,  1.44321608,  1.49296482,  1.54271357,\n",
       "        1.5924...\n",
       "        8.30854271,  8.35829146,  8.4080402 ,  8.45778894,  8.50753769,\n",
       "        8.55728643,  8.60703518,  8.65678392,  8.70653266,  8.75628141,\n",
       "        8.80603015,  8.85577889,  8.90552764,  8.95527638,  9.00502513,\n",
       "        9.05477387,  9.10452261,  9.15427136,  9.2040201 ,  9.25376884,\n",
       "        9.30351759,  9.35326633,  9.40301508,  9.45276382,  9.50251256,\n",
       "        9.55226131,  9.60201005,  9.65175879,  9.70150754,  9.75125628,\n",
       "        9.80100503,  9.85075377,  9.90050251,  9.95025126, 10.        ]),\n",
       "        cv=3, random_state=17)"
      ]
     },
     "execution_count": 178,
     "metadata": {},
     "output_type": "execute_result"
    }
   ],
   "source": [
    "lasso_cv = LassoCV(alphas=alphas, cv=3, random_state=17)\n",
    "lasso_cv.fit(X_train, y_train)"
   ]
  },
  {
   "cell_type": "code",
   "execution_count": 179,
   "metadata": {},
   "outputs": [
    {
     "data": {
      "text/plain": [
       "array([0., 0., 0., 1., 0.])"
      ]
     },
     "execution_count": 179,
     "metadata": {},
     "output_type": "execute_result"
    }
   ],
   "source": [
    "lasso_cv.coef_"
   ]
  },
  {
   "cell_type": "code",
   "execution_count": 180,
   "metadata": {},
   "outputs": [
    {
     "data": {
      "text/plain": [
       "0.1"
      ]
     },
     "execution_count": 180,
     "metadata": {},
     "output_type": "execute_result"
    }
   ],
   "source": [
    "lasso_cv.alpha_"
   ]
  },
  {
   "cell_type": "code",
   "execution_count": 181,
   "metadata": {},
   "outputs": [
    {
     "data": {
      "text/plain": [
       "array([-1.74844845e-11, -7.30061081e-10, -1.47523954e-11])"
      ]
     },
     "execution_count": 181,
     "metadata": {},
     "output_type": "execute_result"
    }
   ],
   "source": [
    "cross_val_score(Lasso(lasso_cv.alpha_), X_train, y_train, cv=3, scoring=\"neg_mean_squared_error\")"
   ]
  },
  {
   "cell_type": "code",
   "execution_count": 182,
   "metadata": {},
   "outputs": [
    {
     "data": {
      "text/plain": [
       "2.5409932023238523e-10"
      ]
     },
     "execution_count": 182,
     "metadata": {},
     "output_type": "execute_result"
    }
   ],
   "source": [
    "abs(\n",
    "    np.mean(\n",
    "        cross_val_score(\n",
    "            Lasso(lasso_cv.alpha_), X_train, y_train, cv=3, scoring=\"neg_mean_squared_error\"\n",
    "        )\n",
    "    )\n",
    ")"
   ]
  },
  {
   "cell_type": "code",
   "execution_count": 183,
   "metadata": {},
   "outputs": [
    {
     "data": {
      "text/plain": [
       "2.515647605667425e-06"
      ]
     },
     "execution_count": 183,
     "metadata": {},
     "output_type": "execute_result"
    }
   ],
   "source": [
    "abs(np.mean(cross_val_score(Lasso(9.95), X_train, y_train, cv=3, scoring=\"neg_mean_squared_error\")))"
   ]
  },
  {
   "cell_type": "code",
   "execution_count": 184,
   "metadata": {},
   "outputs": [
    {
     "data": {
      "text/plain": [
       "array([0.1       , 0.14974874, 0.19949749, 0.24924623, 0.29899497,\n",
       "       0.34874372, 0.39849246, 0.44824121, 0.49798995, 0.54773869])"
      ]
     },
     "execution_count": 184,
     "metadata": {},
     "output_type": "execute_result"
    }
   ],
   "source": [
    "lasso_cv.alphas[:10]  # значения параметров на входе"
   ]
  },
  {
   "cell_type": "code",
   "execution_count": 185,
   "metadata": {},
   "outputs": [
    {
     "data": {
      "text/plain": [
       "array([10.        ,  9.95025126,  9.90050251,  9.85075377,  9.80100503,\n",
       "        9.75125628,  9.70150754,  9.65175879,  9.60201005,  9.55226131])"
      ]
     },
     "execution_count": 185,
     "metadata": {},
     "output_type": "execute_result"
    }
   ],
   "source": [
    "lasso_cv.alphas_[:10]"
   ]
  },
  {
   "cell_type": "code",
   "execution_count": 186,
   "metadata": {},
   "outputs": [
    {
     "data": {
      "image/png": "[encoded data removed]",
      "text/plain": [
       "<Figure size 432x288 with 1 Axes>"
      ]
     },
     "metadata": {
      "needs_background": "light"
     },
     "output_type": "display_data"
    }
   ],
   "source": [
    "plt.plot(lasso_cv.alphas, lasso_cv.mse_path_.mean(1))  # неверно\n",
    "plt.axvline(lasso_cv.alpha_, c=\"g\");"
   ]
  },
  {
   "cell_type": "code",
   "execution_count": 187,
   "metadata": {},
   "outputs": [
    {
     "data": {
      "image/png": "[encoded data removed]",
      "text/plain": [
       "<Figure size 432x288 with 1 Axes>"
      ]
     },
     "metadata": {
      "needs_background": "light"
     },
     "output_type": "display_data"
    }
   ],
   "source": [
    "plt.plot(lasso_cv.alphas_, lasso_cv.mse_path_.mean(1))  # верно\n",
    "plt.axvline(lasso_cv.alpha_, c=\"g\");"
   ]
  },
  {
   "cell_type": "code",
   "execution_count": 188,
   "metadata": {},
   "outputs": [],
   "source": [
    "n_alphas = 200\n",
    "ridge_alphas = np.logspace(-2, 6, n_alphas)"
   ]
  },
  {
   "cell_type": "code",
   "execution_count": 189,
   "metadata": {},
   "outputs": [
    {
     "data": {
      "text/plain": [
       "RidgeCV(alphas=array([1.00000000e-02, 1.09698580e-02, 1.20337784e-02, 1.32008840e-02,\n",
       "       1.44811823e-02, 1.58856513e-02, 1.74263339e-02, 1.91164408e-02,\n",
       "       2.09704640e-02, 2.30043012e-02, 2.52353917e-02, 2.76828663e-02,\n",
       "       3.03677112e-02, 3.33129479e-02, 3.65438307e-02, 4.00880633e-02,\n",
       "       4.39760361e-02, 4.82410870e-02, 5.29197874e-02, 5.80522552e-02,\n",
       "       6.36824994e-02, 6.98587975e-0...\n",
       "       1.18953407e+05, 1.30490198e+05, 1.43145894e+05, 1.57029012e+05,\n",
       "       1.72258597e+05, 1.88965234e+05, 2.07292178e+05, 2.27396575e+05,\n",
       "       2.49450814e+05, 2.73644000e+05, 3.00183581e+05, 3.29297126e+05,\n",
       "       3.61234270e+05, 3.96268864e+05, 4.34701316e+05, 4.76861170e+05,\n",
       "       5.23109931e+05, 5.73844165e+05, 6.29498899e+05, 6.90551352e+05,\n",
       "       7.57525026e+05, 8.30994195e+05, 9.11588830e+05, 1.00000000e+06]),\n",
       "        cv=3, scoring='neg_mean_squared_error')"
      ]
     },
     "execution_count": 189,
     "metadata": {},
     "output_type": "execute_result"
    }
   ],
   "source": [
    "ridge_cv = RidgeCV(alphas=ridge_alphas, scoring=\"neg_mean_squared_error\", cv=3)\n",
    "ridge_cv.fit(X_train, y_train)"
   ]
  },
  {
   "cell_type": "code",
   "execution_count": 190,
   "metadata": {},
   "outputs": [
    {
     "data": {
      "text/plain": [
       "0.01"
      ]
     },
     "execution_count": 190,
     "metadata": {},
     "output_type": "execute_result"
    }
   ],
   "source": [
    "ridge_cv.alpha_"
   ]
  },
  {
   "cell_type": "code",
   "execution_count": 191,
   "metadata": {},
   "outputs": [
    {
     "data": {
      "text/plain": [
       "array([-1.33697872e-12, -2.23558898e-12,  4.05626969e-12,  1.00000000e+00,\n",
       "        2.19480224e-12])"
      ]
     },
     "execution_count": 191,
     "metadata": {},
     "output_type": "execute_result"
    }
   ],
   "source": [
    "ridge_cv.coef_"
   ]
  },
  {
   "cell_type": "code",
   "execution_count": 192,
   "metadata": {},
   "outputs": [
    {
     "data": {
      "image/png": "[encoded data removed]",
      "text/plain": [
       "<Figure size 432x288 with 1 Axes>"
      ]
     },
     "metadata": {
      "needs_background": "light"
     },
     "output_type": "display_data"
    }
   ],
   "source": [
    "n_alphas = 200\n",
    "ridge_alphas = np.logspace(-2, 6, n_alphas)\n",
    "model = Ridge()\n",
    "\n",
    "coefs = []\n",
    "for a in alphas:\n",
    "    model.set_params(alpha=a)\n",
    "    model.fit(X_train, y_train)\n",
    "    coefs.append(model.coef_)\n",
    "\n",
    "ax = plt.gca()\n",
    "ax.set_prop_cycle(cycler(\"color\", [\"b\", \"r\", \"g\", \"c\", \"k\", \"y\", \"m\"]))\n",
    "\n",
    "ax.plot(alphas, coefs)\n",
    "ax.set_xscale(\"log\")\n",
    "ax.set_xlim(ax.get_xlim()[::-1])  # reverse axis\n",
    "plt.xlabel(\"alpha\")\n",
    "plt.ylabel(\"weights\")\n",
    "plt.title(\"Ridge coefficients as a function of the regularization\")\n",
    "plt.axis(\"tight\")\n",
    "plt.show()"
   ]
  }
 ],
 "metadata": {
  "interpreter": {
   "hash": "3edfe0dc38d370e312fe133f21b9180e7049de9605c300a307cc54c13568f7fe"
  },
  "kernelspec": {
   "display_name": "Python 3.10.1 64-bit",
   "language": "python",
   "name": "python3"
  },
  "language_info": {
   "name": "python",
   "version": "3.10.1"
  },
  "orig_nbformat": 4
 },
 "nbformat": 4,
 "nbformat_minor": 2
}
